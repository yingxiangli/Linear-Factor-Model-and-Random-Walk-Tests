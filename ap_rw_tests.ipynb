{
 "cells": [
  {
   "cell_type": "markdown",
   "metadata": {},
   "source": [
    "# ECON 622 Final Project - Tests of Linear Factor Models and Random Walk\n",
    "### Yingxiang Li \n",
    "### yingxiang.li@sauder.ubc.ca"
   ]
  },
  {
   "cell_type": "code",
   "execution_count": 66,
   "metadata": {},
   "outputs": [
    {
     "data": {
      "text/plain": [
       "rw_test (generic function with 3 methods)"
      ]
     },
     "execution_count": 66,
     "metadata": {},
     "output_type": "execute_result"
    }
   ],
   "source": [
    "using Statistics, Distributions, LinearAlgebra, StatsBase, DelimitedFiles\n",
    "using DataFrames, DelimitedFiles, Dates\n",
    "using Base\n",
    "using Plots\n",
    "\n",
    "include(\"src/OLSFn.jl\")\n",
    "include(\"src/Covmoment.jl\")\n",
    "include(\"src/ap_test_time.jl\")\n",
    "include(\"src/ap_test_cross.jl\")\n",
    "include(\"src/ap_test_fm.jl\")\n",
    "include(\"src/rw_test.jl\")"
   ]
  },
  {
   "cell_type": "markdown",
   "metadata": {},
   "source": [
    "## Asset Pricing Tests"
   ]
  },
  {
   "cell_type": "markdown",
   "metadata": {},
   "source": [
    "Load the monthly returns of portfolios double sorted on size and investment and the Fama-French 3 factors, both of which are downloaded from the Kenneth R. Frech's library."
   ]
  },
  {
   "cell_type": "code",
   "execution_count": 67,
   "metadata": {},
   "outputs": [
    {
     "data": {
      "text/plain": [
       "666×5 Array{Float64,2}:\n",
       " 196307.0  -0.39  -0.56  -0.83  0.27\n",
       " 196308.0   5.07  -0.94   1.67  0.25\n",
       " 196309.0  -1.57  -0.31   0.18  0.27\n",
       " 196310.0   2.53  -0.54  -0.1   0.29\n",
       " 196311.0  -0.85  -1.13   1.71  0.27\n",
       " 196312.0   1.83  -1.97  -0.12  0.29\n",
       " 196401.0   2.24  -0.19   1.59  0.3 \n",
       " 196402.0   1.54   0.1    2.83  0.26\n",
       " 196403.0   1.41   0.99   3.32  0.31\n",
       " 196404.0   0.1   -1.37  -0.55  0.29\n",
       " 196405.0   1.42  -0.9    1.98  0.26\n",
       " 196406.0   1.27  -0.26   0.68  0.3 \n",
       " 196407.0   1.74   0.28   0.68  0.3 \n",
       "      ⋮                             \n",
       " 201801.0   5.58  -3.04  -1.38  0.11\n",
       " 201802.0  -3.65   0.25  -1.19  0.11\n",
       " 201803.0  -2.35   3.95  -0.12  0.12\n",
       " 201804.0   0.29   1.12   0.54  0.14\n",
       " 201805.0   2.65   5.23  -3.16  0.14\n",
       " 201806.0   0.48   1.18  -2.38  0.14\n",
       " 201807.0   3.19  -2.18   0.4   0.16\n",
       " 201808.0   3.44   1.15  -4.08  0.16\n",
       " 201809.0   0.06  -2.37  -1.3   0.15\n",
       " 201810.0  -7.68  -4.76   3.44  0.19\n",
       " 201811.0   1.69  -0.79   0.25  0.18\n",
       " 201812.0  -9.55  -2.63  -1.47  0.19"
      ]
     },
     "execution_count": 67,
     "metadata": {},
     "output_type": "execute_result"
    }
   ],
   "source": [
    "Portfolios = readdlm(\"Data/25_Portfolios_ME_INV_5x5.csv\", ',', skipstart = 1) \n",
    "FFFactors = readdlm(\"Data/F-F_Research_Data_Factors.csv\", ',', skipstart = 1) "
   ]
  },
  {
   "cell_type": "markdown",
   "metadata": {},
   "source": [
    "Calculate the excess return for each portfolio"
   ]
  },
  {
   "cell_type": "code",
   "execution_count": 68,
   "metadata": {},
   "outputs": [
    {
     "data": {
      "text/plain": [
       "666×25 Array{Float64,2}:\n",
       "  -0.2327   -2.0078   -1.0025   -2.1036  …   0.1335   0.0337    0.8788\n",
       "   4.1664    1.9969    1.5442    1.0346      6.0456   5.4999    6.5333\n",
       "  -0.7424   -1.1203   -1.5106    0.8346     -3.1945  -1.7835   -2.1966\n",
       "   0.3045   -0.9896    1.3831    1.636       0.528    3.2474    3.6739\n",
       "  -3.6346    0.2576   -3.4214   -3.9693     -1.2791  -0.4138   -0.2184\n",
       "  -2.9289   -0.4484    0.7308   -3.0651  …   1.2593   1.3121    1.1647\n",
       "   7.3298    5.2567    3.6786    4.801       1.7398   1.7397   -2.0245\n",
       "   2.2325   -0.695     3.242     1.2454      1.5449   1.5046    2.8844\n",
       "   4.9999    4.1354    0.836     1.9313      0.5574  -0.1619    1.8178\n",
       "   0.8293   -1.6317    0.3245   -0.3781      0.8614  -0.5764    1.433 \n",
       "   1.2308    0.8424   -1.236    -0.7429  …   1.1472   0.4715    0.0688\n",
       "  -0.2673    1.063     1.5268    1.3706      2.3027   1.1351    1.158 \n",
       "   2.8795    3.9997    3.4028    3.1214      2.5605   1.9657    1.8679\n",
       "   ⋮                                     ⋱                            \n",
       "   4.1797    2.0246    1.946     0.0525      4.51     4.2969    6.6439\n",
       "  -4.8923   -4.1537   -3.4066   -3.2043  …  -3.592   -3.1768   -3.4529\n",
       "   0.9253   -0.128     3.2554    2.0211     -1.3587  -1.3078   -1.9711\n",
       "   1.0988   -0.4638    1.3983    1.8453      0.0788   0.092    -0.5628\n",
       "   6.782     4.0423    5.1314    3.2295      0.2454   1.0535    1.5476\n",
       "  -1.1073    3.1345    0.6243    2.3587     -0.342    0.4589    1.67  \n",
       "  -2.2922   -1.496    -0.2072    0.7413  …   4.0184   2.8527    2.0422\n",
       "   3.1667    1.9955    1.1328    2.9758      1.8158   3.2604    5.0138\n",
       "  -3.1008   -1.5203   -2.7704   -1.3329     -0.2927  -0.1303   -0.523 \n",
       " -11.215    -7.6816   -7.7455   -8.9096     -6.0558  -6.3502  -11.1501\n",
       "  -4.1732   -2.0338   -0.2429   -1.9873      2.3585   2.6189    2.7315\n",
       " -17.939   -11.6676  -11.8089  -11.7344  …  -8.6404  -9.2441   -8.5207"
      ]
     },
     "execution_count": 68,
     "metadata": {},
     "output_type": "execute_result"
    }
   ],
   "source": [
    "r = Portfolios[:, 2:end];\n",
    "factors = FFFactors[:, 2:4];\n",
    "rf = FFFactors[:, 5];\n",
    "r = r.*(1 - (r == - 99.99));\n",
    "(T, K) = size(factors);\n",
    "N = size(r,2);\n",
    "re = r .- rf * ones(1,N)"
   ]
  },
  {
   "cell_type": "markdown",
   "metadata": {},
   "source": [
    "### Time-Series Tests\n",
    "The betas are defined by the time-series regression coefficients\n",
    "\n",
    "$$R_{t}^{ei} = \\alpha_{i} + \\beta_{i}' f_{t} + e_{t}^{i}, t = 1, 2, \\cdots, T \\text{ for each i}$$\n",
    "\n",
    "and the asset pricing model states that the expected returns are linear in the betas:\n",
    "\n",
    "$$E(R^{ei}) = \\beta_{i}' E(f_{t}) $$\n",
    "\n",
    "Asset pricing models predict a restriction on the intercepts of the time-series regressions. The asset pricing model is valid if the intercepts of time-series regressions are jointly zero. The null hypothesis of the Wald test is \n",
    "\n",
    "$$H_{0}: \\alpha_{1} = \\alpha_{2} = \\alpha_{3} = \\cdots = \\alpha_{N} = 0$$\n",
    "\n",
    "There are four tests - OLS asymptotic, OLS with finite-sample adjustment (i.e. Gibbons Ross and Shanken (1989) test statistics), GMM asymptotic and GMM with finite-sample adjustment. Please refer to Cochrane (2000) for details"
   ]
  },
  {
   "cell_type": "code",
   "execution_count": 69,
   "metadata": {},
   "outputs": [
    {
     "name": "stdout",
     "output_type": "stream",
     "text": [
      "test_statistics_time = [163.41188864898953]\n",
      "pvalue_time = [0.0]\n"
     ]
    },
    {
     "data": {
      "text/plain": [
       "1-element Array{Float64,1}:\n",
       " 0.0"
      ]
     },
     "execution_count": 69,
     "metadata": {},
     "output_type": "execute_result"
    }
   ],
   "source": [
    "(alpha, beta, resid, cov_resid, test_statistics_time, pvalue_time) = ap_test_time(re, factors, \"NW\", 4, \"asymptotic\");\n",
    "@show test_statistics_time\n",
    "@show  pvalue_time"
   ]
  },
  {
   "cell_type": "code",
   "execution_count": 70,
   "metadata": {},
   "outputs": [
    {
     "name": "stdout",
     "output_type": "stream",
     "text": [
      "test_statistics_time = [6.26166876624957]\n",
      "pvalue_time = [0.0]\n"
     ]
    },
    {
     "data": {
      "text/plain": [
       "1-element Array{Float64,1}:\n",
       " 0.0"
      ]
     },
     "execution_count": 70,
     "metadata": {},
     "output_type": "execute_result"
    }
   ],
   "source": [
    "(alpha, beta, resid, cov_resid, test_statistics_time, pvalue_time) = ap_test_time(re, factors, \"NW\", 4, \"finite\");\n",
    "@show test_statistics_time\n",
    "@show  pvalue_time"
   ]
  },
  {
   "cell_type": "code",
   "execution_count": 71,
   "metadata": {},
   "outputs": [
    {
     "name": "stdout",
     "output_type": "stream",
     "text": [
      "test_statistics_time = 163.80845181345143\n",
      "pvalue_time = 0.0\n"
     ]
    },
    {
     "data": {
      "text/plain": [
       "0.0"
      ]
     },
     "execution_count": 71,
     "metadata": {},
     "output_type": "execute_result"
    }
   ],
   "source": [
    "(alpha, beta, resid, cov_resid, test_statistics_time, pvalue_time) = ap_test_time(re, factors, \"NW\", 4, \"GMM asymptotic\");\n",
    "@show test_statistics_time\n",
    "@show  pvalue_time"
   ]
  },
  {
   "cell_type": "code",
   "execution_count": 72,
   "metadata": {},
   "outputs": [
    {
     "name": "stdout",
     "output_type": "stream",
     "text": [
      "test_statistics_time = [6.27686439981874]\n",
      "pvalue_time = [0.0]\n"
     ]
    },
    {
     "data": {
      "text/plain": [
       "1×1 Array{Float64,2}:\n",
       " 0.0"
      ]
     },
     "execution_count": 72,
     "metadata": {},
     "output_type": "execute_result"
    }
   ],
   "source": [
    "(alpha, beta, resid, cov_resid, test_statistics_time, pvalue_time) = ap_test_time(re, factors, \"NW\", 4, \"GMM finite\");\n",
    "@show test_statistics_time\n",
    "@show  pvalue_time"
   ]
  },
  {
   "cell_type": "markdown",
   "metadata": {},
   "source": [
    "### Cross-Sectional Tests\n",
    "For cross-sectional tests, the central economic question is why average returns vary across assets: expected returns of an asset should be high if that asset has high betas or risk exposure to factors that carry high risk premia. We can fit\n",
    "\n",
    "$$E_{T}(R^{ei}) = \\beta_{i}'\\lambda + \\alpha_{i}, i = 1, 2, \\cdots, N$$\n",
    "\n",
    "with a two-pass regression estimation procedure\n",
    "- First-stage: time-series regressions of excess returns on factors to obtain estimates of $\\beta_{i}$ for each assets  $i$\n",
    "- Second-stage: cross-sectional regressions (without intercept) of time-series average returns on estiamted betas to obtain risk premium $\\gamma$ for each assets\n",
    "\n",
    "Asset pricing models predict a restriction on the error terms of the second-stage cross-sectional regressions. The asset pricing model is valid if the error terms of cross-sectional regressions are jointly zero-mean. The null hypothesis of the Wald test is \n",
    "\n",
    "$$H_{0}: \\alpha_{1} = \\alpha_{2} = \\alpha_{3} = \\cdots = \\alpha_{N} = 0$$\n",
    "\n",
    "There are six tests - OLS, GLS, OLS wiht Shanken correction, GLS with Shanken correction, GMM and GLS GMM that exploit the moment conditions in the first-stage time-series regressions and second-stage cross-sectional regression. Please refer to Cochrane (2000) for details.\n"
   ]
  },
  {
   "cell_type": "code",
   "execution_count": 73,
   "metadata": {},
   "outputs": [
    {
     "name": "stdout",
     "output_type": "stream",
     "text": [
      "test_statistics_cross = [132.08878100583252]\n",
      "pvalue_cross = [0.0]\n"
     ]
    },
    {
     "data": {
      "text/plain": [
       "1×1 Array{Float64,2}:\n",
       " 0.0"
      ]
     },
     "execution_count": 73,
     "metadata": {},
     "output_type": "execute_result"
    }
   ],
   "source": [
    "(Ere, lambda, alpha_cross, test_statistics_cross, pvalue_cross) = ap_test_cross(re, factors, \"NW\", 4, \"OLS\");\n",
    "@show test_statistics_cross\n",
    "@show pvalue_cross"
   ]
  },
  {
   "cell_type": "code",
   "execution_count": 74,
   "metadata": {},
   "outputs": [
    {
     "name": "stdout",
     "output_type": "stream",
     "text": [
      "test_statistics_cross = [132.0887810058398]\n",
      "pvalue_cross = [0.0]\n"
     ]
    },
    {
     "data": {
      "text/plain": [
       "1×1 Array{Float64,2}:\n",
       " 0.0"
      ]
     },
     "execution_count": 74,
     "metadata": {},
     "output_type": "execute_result"
    }
   ],
   "source": [
    "(Ere, lambda, alpha_cross, test_statistics_cross, pvalue_cross) = ap_test_cross(re, factors, \"NW\", 4, \"GLS\");\n",
    "@show test_statistics_cross\n",
    "@show pvalue_cross"
   ]
  },
  {
   "cell_type": "code",
   "execution_count": 75,
   "metadata": {},
   "outputs": [
    {
     "name": "stdout",
     "output_type": "stream",
     "text": [
      "test_statistics_cross = [114.63609527856971]\n",
      "pvalue_cross = [1.63202784619898e-14]\n"
     ]
    },
    {
     "data": {
      "text/plain": [
       "1×1 Array{Float64,2}:\n",
       " 1.63202784619898e-14"
      ]
     },
     "execution_count": 75,
     "metadata": {},
     "output_type": "execute_result"
    }
   ],
   "source": [
    "(Ere, lambda, alpha_cross, test_statistics_cross, pvalue_cross) = ap_test_cross(re, factors, \"NW\", 4, \"Shanken\");\n",
    "@show test_statistics_cross\n",
    "@show pvalue_cross"
   ]
  },
  {
   "cell_type": "code",
   "execution_count": 76,
   "metadata": {},
   "outputs": [
    {
     "name": "stdout",
     "output_type": "stream",
     "text": [
      "test_statistics_cross = [147.44487479532486]\n",
      "pvalue_cross = [0.0]\n"
     ]
    },
    {
     "data": {
      "text/plain": [
       "1×1 Array{Float64,2}:\n",
       " 0.0"
      ]
     },
     "execution_count": 76,
     "metadata": {},
     "output_type": "execute_result"
    }
   ],
   "source": [
    "(Ere, lambda, alpha_cross, test_statistics_cross, pvalue_cross) = ap_test_cross(re, factors, \"NW\", 4, \"GLS Shanken\");\n",
    "@show test_statistics_cross\n",
    "@show pvalue_cross"
   ]
  },
  {
   "cell_type": "code",
   "execution_count": 77,
   "metadata": {},
   "outputs": [
    {
     "name": "stdout",
     "output_type": "stream",
     "text": [
      "test_statistics_cross = [69.83652203907619]\n",
      "pvalue_cross = [7.01784127477012e-7]\n"
     ]
    },
    {
     "data": {
      "text/plain": [
       "1×1 Array{Float64,2}:\n",
       " 7.01784127477012e-7"
      ]
     },
     "execution_count": 77,
     "metadata": {},
     "output_type": "execute_result"
    }
   ],
   "source": [
    "(Ere, lambda, alpha_cross, test_statistics_cross, pvalue_cross) = ap_test_cross(re, factors, \"NW\", 4, \"GMM\");\n",
    "@show test_statistics_cross\n",
    "@show pvalue_cross"
   ]
  },
  {
   "cell_type": "code",
   "execution_count": 78,
   "metadata": {},
   "outputs": [
    {
     "name": "stdout",
     "output_type": "stream",
     "text": [
      "test_statistics_cross = [62.32110420648595]\n",
      "pvalue_cross = [1.0069093722031575e-5]\n"
     ]
    },
    {
     "data": {
      "text/plain": [
       "1×1 Array{Float64,2}:\n",
       " 1.0069093722031575e-5"
      ]
     },
     "execution_count": 78,
     "metadata": {},
     "output_type": "execute_result"
    }
   ],
   "source": [
    "(Ere, lambda, alpha_cross, test_statistics_cross, pvalue_cross) = ap_test_cross(re, factors, \"NW\", 4, \"GLS GMM\");\n",
    "@show test_statistics_cross\n",
    "@show pvalue_cross"
   ]
  },
  {
   "cell_type": "markdown",
   "metadata": {},
   "source": [
    "### Cross-Sectional Test Using the Fama-MacBeth Procedure\n",
    "Instead of estimating a single cross-sectinal regressions with teh sample averages, the Fama-MacBeth (1973) precedure runs a cross-sectional regression at each time period, i.e.\n",
    "$$R_{t}^{ei} = \\beta_{i}'\\lambda_{t} + \\alpha_{it}, i = 1, 2, \\cdots, N \\text{ for each t}$$\n",
    "\n",
    "Then $\\alpha = (\\alpha_{1}, \\alpha_{2}, \\cdots, \\alpha_{N})'$ is estimated as the the time-series sample average for each test assets:\n",
    "$$\\alpha = \\frac{1}{T}\\sum_{t=1}^{T}\\alpha_{t}$$\n",
    "\n",
    "Its covariance matrix is estimated as:\n",
    "$$cov(\\alpha) = \\frac{1}{T} \\sum_{t=1}^{T}(\\alpha_{t} - \\alpha)(\\alpha_{t} - \\alpha)'$$\n",
    "\n",
    "Fama-MacBeth standard errors do not include corrections for the fact that the betas are also estimated. The Wald test is\n",
    "$$\\alpha' cov(\\alpha)^{-1} \\alpha \\sim \\chi_{N-K}^{2}$$\n",
    "\n",
    "and the null hypothesis is \n",
    "$$H_{0}: \\alpha_{1} = \\alpha_{2} = \\cdots = \\alpha_{N} = 0$$"
   ]
  },
  {
   "cell_type": "code",
   "execution_count": 79,
   "metadata": {},
   "outputs": [
    {
     "name": "stdout",
     "output_type": "stream",
     "text": [
      "[test_statistics_fm, pvalue_fm] = Array{Float64,2}[[166.81150836795896], [0.0]]\n"
     ]
    },
    {
     "data": {
      "text/plain": [
       "2-element Array{Array{Float64,2},1}:\n",
       " [166.81150836795896]\n",
       " [0.0]               "
      ]
     },
     "execution_count": 79,
     "metadata": {},
     "output_type": "execute_result"
    }
   ],
   "source": [
    "(alpha_fm, test_statistics_fm, pvalue_fm) = ap_test_fm(re, factors)\n",
    "@show [test_statistics_fm, pvalue_fm]"
   ]
  },
  {
   "cell_type": "markdown",
   "metadata": {},
   "source": [
    "## Tests of Random Walk\n",
    "Random walk with uncorrelated increments (RW3) is the weakest form version of the random walk. The other versions are random walk with iid increments (RW1) and random walk with independent increments (RW2).  There are three major tests of random walk in Campbell, Ho and Mackinley (1997). They are \n",
    "- Box and Pierce (1970) test of RW(3): the autocorrelation of increments at all leads and lags should be zero under random walk. By summing the squared autocorrelation, the Box-Pierce Q-statistics is designed to detect departures from zero autocorrelations in either directions and at all lags. \n",
    "- Ljung and Box (1978) test of RW(3): the Ljung-Box Q-statistics provides the finite-sample correction which yields a better fit to the chi-squared distribution for small sample size.\n",
    "- Variance ratio test of RW(1): the variance of random walk increments must be a linear function of the time interval under random walk. The variance ratios statistics tests such property.\n",
    "\n",
    "The null hypothesis is that the price of the underlying asset follows random walk. Please refer to Campbell, Ho and Mackinley (1997) for more details. The tests in general are sensitive the the number of lags for autocorrelations in the tests.\n",
    "\n",
    "We start with the daily price of the SP500 and then switch to montly price of SP500 collected from the Yahoo! finance\n"
   ]
  },
  {
   "cell_type": "code",
   "execution_count": 80,
   "metadata": {},
   "outputs": [
    {
     "data": {
      "text/plain": [
       "4527×7 Array{Any,2}:\n",
       " \"2001-01-02\"  1320.28  1320.28  1276.05  1283.27  1283.27  1129400000\n",
       " \"2001-01-03\"  1283.27  1347.76  1274.62  1347.56  1347.56  1880700000\n",
       " \"2001-01-04\"  1347.56  1350.24  1329.14  1333.34  1333.34  2131000000\n",
       " \"2001-01-05\"  1333.34  1334.77  1294.95  1298.35  1298.35  1430800000\n",
       " \"2001-01-08\"  1298.35  1298.35  1276.29  1295.86  1295.86  1115500000\n",
       " \"2001-01-09\"  1295.86  1311.72  1295.14  1300.8   1300.8   1191300000\n",
       " \"2001-01-10\"  1300.8   1313.76  1287.28  1313.27  1313.27  1296500000\n",
       " \"2001-01-11\"  1313.27  1332.19  1309.72  1326.82  1326.82  1411200000\n",
       " \"2001-01-12\"  1326.82  1333.21  1311.59  1318.55  1318.55  1276000000\n",
       " \"2001-01-16\"  1318.32  1327.81  1313.33  1326.65  1326.65  1205700000\n",
       " \"2001-01-17\"  1326.65  1346.92  1325.41  1329.47  1329.47  1349100000\n",
       " \"2001-01-18\"  1329.89  1352.71  1327.41  1347.97  1347.97  1445000000\n",
       " \"2001-01-19\"  1347.97  1354.55  1336.74  1342.54  1342.54  1407800000\n",
       " ⋮                                                    ⋮               \n",
       " \"2018-12-13\"  2658.7   2670.19  2637.27  2650.54  2650.54  3927720000\n",
       " \"2018-12-14\"  2629.68  2635.07  2593.84  2599.95  2599.95  4035020000\n",
       " \"2018-12-17\"  2590.75  2601.13  2530.54  2545.94  2545.94  4616350000\n",
       " \"2018-12-18\"  2559.9   2573.99  2528.71  2546.16  2546.16  4470880000\n",
       " \"2018-12-19\"  2547.05  2585.29  2488.96  2506.96  2506.96  5127940000\n",
       " \"2018-12-20\"  2496.77  2509.63  2441.18  2467.42  2467.42  5585780000\n",
       " \"2018-12-21\"  2465.38  2504.41  2408.55  2416.62  2416.62  7609010000\n",
       " \"2018-12-24\"  2400.56  2410.34  2351.1   2351.1   2351.1   2613930000\n",
       " \"2018-12-26\"  2363.12  2467.76  2346.58  2467.7   2467.7   4233990000\n",
       " \"2018-12-27\"  2442.5   2489.1   2397.94  2488.83  2488.83  4096610000\n",
       " \"2018-12-28\"  2498.77  2520.27  2472.89  2485.74  2485.74  3702620000\n",
       " \"2018-12-31\"  2498.94  2509.24  2482.82  2506.85  2506.85  3442870000"
      ]
     },
     "execution_count": 80,
     "metadata": {},
     "output_type": "execute_result"
    }
   ],
   "source": [
    "SP500_daily = readdlm(\"Data/GSPC_daily.csv\", ',', skipstart = 1) "
   ]
  },
  {
   "cell_type": "code",
   "execution_count": 81,
   "metadata": {},
   "outputs": [
    {
     "data": {
      "image/svg+xml": [
       "<?xml version=\"1.0\" encoding=\"utf-8\"?>\n",
       "<svg xmlns=\"http://www.w3.org/2000/svg\" xmlns:xlink=\"http://www.w3.org/1999/xlink\" width=\"600\" height=\"400\" viewBox=\"0 0 2400 1600\">\n",
       "<defs>\n",
       "  <clipPath id=\"clip2900\">\n",
       "    <rect x=\"0\" y=\"0\" width=\"2400\" height=\"1600\"/>\n",
       "  </clipPath>\n",
       "</defs>\n",
       "<polygon clip-path=\"url(#clip2900)\" points=\"\n",
       "0,1600 2400,1600 2400,0 0,0 \n",
       "  \" fill=\"#ffffff\" fill-rule=\"evenodd\" fill-opacity=\"1\"/>\n",
       "<defs>\n",
       "  <clipPath id=\"clip2901\">\n",
       "    <rect x=\"480\" y=\"0\" width=\"1681\" height=\"1600\"/>\n",
       "  </clipPath>\n",
       "</defs>\n",
       "<polygon clip-path=\"url(#clip2900)\" points=\"\n",
       "194.041,1487.47 2352.76,1487.47 2352.76,47.2441 194.041,47.2441 \n",
       "  \" fill=\"#ffffff\" fill-rule=\"evenodd\" fill-opacity=\"1\"/>\n",
       "<defs>\n",
       "  <clipPath id=\"clip2902\">\n",
       "    <rect x=\"194\" y=\"47\" width=\"2160\" height=\"1441\"/>\n",
       "  </clipPath>\n",
       "</defs>\n",
       "<polyline clip-path=\"url(#clip2902)\" style=\"stroke:#000000; stroke-width:2; stroke-opacity:0.1; fill:none\" points=\"\n",
       "  254.687,1487.47 254.687,47.2441 \n",
       "  \"/>\n",
       "<polyline clip-path=\"url(#clip2902)\" style=\"stroke:#000000; stroke-width:2; stroke-opacity:0.1; fill:none\" points=\"\n",
       "  704.648,1487.47 704.648,47.2441 \n",
       "  \"/>\n",
       "<polyline clip-path=\"url(#clip2902)\" style=\"stroke:#000000; stroke-width:2; stroke-opacity:0.1; fill:none\" points=\"\n",
       "  1154.61,1487.47 1154.61,47.2441 \n",
       "  \"/>\n",
       "<polyline clip-path=\"url(#clip2902)\" style=\"stroke:#000000; stroke-width:2; stroke-opacity:0.1; fill:none\" points=\"\n",
       "  1604.57,1487.47 1604.57,47.2441 \n",
       "  \"/>\n",
       "<polyline clip-path=\"url(#clip2902)\" style=\"stroke:#000000; stroke-width:2; stroke-opacity:0.1; fill:none\" points=\"\n",
       "  2054.53,1487.47 2054.53,47.2441 \n",
       "  \"/>\n",
       "<polyline clip-path=\"url(#clip2902)\" style=\"stroke:#000000; stroke-width:2; stroke-opacity:0.1; fill:none\" points=\"\n",
       "  194.041,1253.68 2352.76,1253.68 \n",
       "  \"/>\n",
       "<polyline clip-path=\"url(#clip2902)\" style=\"stroke:#000000; stroke-width:2; stroke-opacity:0.1; fill:none\" points=\"\n",
       "  194.041,952.747 2352.76,952.747 \n",
       "  \"/>\n",
       "<polyline clip-path=\"url(#clip2902)\" style=\"stroke:#000000; stroke-width:2; stroke-opacity:0.1; fill:none\" points=\"\n",
       "  194.041,651.813 2352.76,651.813 \n",
       "  \"/>\n",
       "<polyline clip-path=\"url(#clip2902)\" style=\"stroke:#000000; stroke-width:2; stroke-opacity:0.1; fill:none\" points=\"\n",
       "  194.041,350.878 2352.76,350.878 \n",
       "  \"/>\n",
       "<polyline clip-path=\"url(#clip2902)\" style=\"stroke:#000000; stroke-width:2; stroke-opacity:0.1; fill:none\" points=\"\n",
       "  194.041,49.9431 2352.76,49.9431 \n",
       "  \"/>\n",
       "<polyline clip-path=\"url(#clip2900)\" style=\"stroke:#000000; stroke-width:4; stroke-opacity:1; fill:none\" points=\"\n",
       "  194.041,1487.47 2352.76,1487.47 \n",
       "  \"/>\n",
       "<polyline clip-path=\"url(#clip2900)\" style=\"stroke:#000000; stroke-width:4; stroke-opacity:1; fill:none\" points=\"\n",
       "  194.041,1487.47 194.041,47.2441 \n",
       "  \"/>\n",
       "<polyline clip-path=\"url(#clip2900)\" style=\"stroke:#000000; stroke-width:4; stroke-opacity:1; fill:none\" points=\"\n",
       "  254.687,1487.47 254.687,1465.87 \n",
       "  \"/>\n",
       "<polyline clip-path=\"url(#clip2900)\" style=\"stroke:#000000; stroke-width:4; stroke-opacity:1; fill:none\" points=\"\n",
       "  704.648,1487.47 704.648,1465.87 \n",
       "  \"/>\n",
       "<polyline clip-path=\"url(#clip2900)\" style=\"stroke:#000000; stroke-width:4; stroke-opacity:1; fill:none\" points=\"\n",
       "  1154.61,1487.47 1154.61,1465.87 \n",
       "  \"/>\n",
       "<polyline clip-path=\"url(#clip2900)\" style=\"stroke:#000000; stroke-width:4; stroke-opacity:1; fill:none\" points=\"\n",
       "  1604.57,1487.47 1604.57,1465.87 \n",
       "  \"/>\n",
       "<polyline clip-path=\"url(#clip2900)\" style=\"stroke:#000000; stroke-width:4; stroke-opacity:1; fill:none\" points=\"\n",
       "  2054.53,1487.47 2054.53,1465.87 \n",
       "  \"/>\n",
       "<polyline clip-path=\"url(#clip2900)\" style=\"stroke:#000000; stroke-width:4; stroke-opacity:1; fill:none\" points=\"\n",
       "  194.041,1253.68 226.422,1253.68 \n",
       "  \"/>\n",
       "<polyline clip-path=\"url(#clip2900)\" style=\"stroke:#000000; stroke-width:4; stroke-opacity:1; fill:none\" points=\"\n",
       "  194.041,952.747 226.422,952.747 \n",
       "  \"/>\n",
       "<polyline clip-path=\"url(#clip2900)\" style=\"stroke:#000000; stroke-width:4; stroke-opacity:1; fill:none\" points=\"\n",
       "  194.041,651.813 226.422,651.813 \n",
       "  \"/>\n",
       "<polyline clip-path=\"url(#clip2900)\" style=\"stroke:#000000; stroke-width:4; stroke-opacity:1; fill:none\" points=\"\n",
       "  194.041,350.878 226.422,350.878 \n",
       "  \"/>\n",
       "<polyline clip-path=\"url(#clip2900)\" style=\"stroke:#000000; stroke-width:4; stroke-opacity:1; fill:none\" points=\"\n",
       "  194.041,49.9431 226.422,49.9431 \n",
       "  \"/>\n",
       "<g clip-path=\"url(#clip2900)\">\n",
       "<text style=\"fill:#000000; fill-opacity:1; font-family:Arial,Helvetica Neue,Helvetica,sans-serif; font-size:48px; text-anchor:middle;\" transform=\"rotate(0, 254.687, 1541.47)\" x=\"254.687\" y=\"1541.47\">0</text>\n",
       "</g>\n",
       "<g clip-path=\"url(#clip2900)\">\n",
       "<text style=\"fill:#000000; fill-opacity:1; font-family:Arial,Helvetica Neue,Helvetica,sans-serif; font-size:48px; text-anchor:middle;\" transform=\"rotate(0, 704.648, 1541.47)\" x=\"704.648\" y=\"1541.47\">1000</text>\n",
       "</g>\n",
       "<g clip-path=\"url(#clip2900)\">\n",
       "<text style=\"fill:#000000; fill-opacity:1; font-family:Arial,Helvetica Neue,Helvetica,sans-serif; font-size:48px; text-anchor:middle;\" transform=\"rotate(0, 1154.61, 1541.47)\" x=\"1154.61\" y=\"1541.47\">2000</text>\n",
       "</g>\n",
       "<g clip-path=\"url(#clip2900)\">\n",
       "<text style=\"fill:#000000; fill-opacity:1; font-family:Arial,Helvetica Neue,Helvetica,sans-serif; font-size:48px; text-anchor:middle;\" transform=\"rotate(0, 1604.57, 1541.47)\" x=\"1604.57\" y=\"1541.47\">3000</text>\n",
       "</g>\n",
       "<g clip-path=\"url(#clip2900)\">\n",
       "<text style=\"fill:#000000; fill-opacity:1; font-family:Arial,Helvetica Neue,Helvetica,sans-serif; font-size:48px; text-anchor:middle;\" transform=\"rotate(0, 2054.53, 1541.47)\" x=\"2054.53\" y=\"1541.47\">4000</text>\n",
       "</g>\n",
       "<g clip-path=\"url(#clip2900)\">\n",
       "<text style=\"fill:#000000; fill-opacity:1; font-family:Arial,Helvetica Neue,Helvetica,sans-serif; font-size:48px; text-anchor:end;\" transform=\"rotate(0, 170.041, 1271.18)\" x=\"170.041\" y=\"1271.18\">1000</text>\n",
       "</g>\n",
       "<g clip-path=\"url(#clip2900)\">\n",
       "<text style=\"fill:#000000; fill-opacity:1; font-family:Arial,Helvetica Neue,Helvetica,sans-serif; font-size:48px; text-anchor:end;\" transform=\"rotate(0, 170.041, 970.247)\" x=\"170.041\" y=\"970.247\">1500</text>\n",
       "</g>\n",
       "<g clip-path=\"url(#clip2900)\">\n",
       "<text style=\"fill:#000000; fill-opacity:1; font-family:Arial,Helvetica Neue,Helvetica,sans-serif; font-size:48px; text-anchor:end;\" transform=\"rotate(0, 170.041, 669.313)\" x=\"170.041\" y=\"669.313\">2000</text>\n",
       "</g>\n",
       "<g clip-path=\"url(#clip2900)\">\n",
       "<text style=\"fill:#000000; fill-opacity:1; font-family:Arial,Helvetica Neue,Helvetica,sans-serif; font-size:48px; text-anchor:end;\" transform=\"rotate(0, 170.041, 368.378)\" x=\"170.041\" y=\"368.378\">2500</text>\n",
       "</g>\n",
       "<g clip-path=\"url(#clip2900)\">\n",
       "<text style=\"fill:#000000; fill-opacity:1; font-family:Arial,Helvetica Neue,Helvetica,sans-serif; font-size:48px; text-anchor:end;\" transform=\"rotate(0, 170.041, 67.4431)\" x=\"170.041\" y=\"67.4431\">3000</text>\n",
       "</g>\n",
       "<polyline clip-path=\"url(#clip2902)\" style=\"stroke:#009af9; stroke-width:4; stroke-opacity:1; fill:none\" points=\"\n",
       "  255.137,1060.92 255.587,1083.19 256.037,1044.5 256.487,1053.05 256.937,1074.11 257.387,1075.61 257.837,1072.64 258.287,1065.13 258.737,1056.98 259.187,1062.09 \n",
       "  259.637,1057.08 260.087,1055.13 260.537,1044.25 260.987,1047.52 261.437,1047.3 261.887,1036.77 262.337,1034.42 262.787,1038.51 263.236,1040.07 263.686,1034.5 \n",
       "  264.136,1028.75 264.586,1033.39 265.036,1028.9 265.486,1043.35 265.936,1040.43 266.386,1041.67 266.836,1048.38 267.286,1053.54 267.736,1064.24 268.186,1054.88 \n",
       "  268.636,1061.81 269.086,1063.54 269.536,1057.11 269.986,1072.2 270.436,1085.8 270.886,1100.04 271.336,1101.52 271.786,1105.71 272.236,1092.59 272.686,1098.44 \n",
       "  273.136,1109.27 273.586,1108.49 274.036,1112.74 274.485,1108.38 274.935,1100.93 275.385,1096.06 275.835,1094.34 276.285,1113.19 276.735,1145.25 277.185,1134.72 \n",
       "  277.635,1153.34 278.085,1149.22 278.535,1163.08 278.985,1150.88 279.435,1167.84 279.885,1180.17 280.335,1182.91 280.785,1169.52 281.235,1161.78 281.685,1144.04 \n",
       "  282.135,1161.42 282.585,1164.64 283.035,1157.18 283.485,1165.89 283.935,1189.61 284.385,1191.54 284.835,1162.53 285.285,1176.38 285.735,1170.87 286.184,1152.34 \n",
       "  286.634,1153.84 287.084,1143.24 287.534,1145.54 287.984,1138.24 288.434,1110.34 288.884,1100.99 289.334,1107.44 289.784,1118.65 290.234,1127.61 290.684,1116 \n",
       "  291.134,1112.53 291.584,1101.38 292.034,1103.54 292.484,1093.32 292.934,1092.72 293.384,1104.07 293.834,1093.22 294.284,1093.16 294.734,1096.47 295.184,1099.88 \n",
       "  295.634,1100.1 296.084,1105.82 296.534,1103.86 296.984,1103.55 297.434,1082.16 297.883,1080.05 298.333,1077.96 298.783,1065.4 299.233,1067.48 299.683,1079.71 \n",
       "  300.133,1077.23 300.583,1086.43 301.033,1092.42 301.483,1104.37 301.933,1099.71 302.383,1096.79 302.833,1092.92 303.283,1083.01 303.733,1091.16 304.183,1086.99 \n",
       "  304.633,1094.21 305.083,1100.57 305.533,1099.69 305.983,1108.27 306.433,1121.35 306.883,1124.67 307.333,1128.23 307.783,1125.74 308.233,1119.38 308.683,1111.01 \n",
       "  309.132,1118.05 309.582,1122.11 310.032,1123.22 310.482,1126.65 310.932,1117.54 311.382,1118.61 311.832,1111.21 312.282,1112.57 312.732,1121.73 313.182,1138.97 \n",
       "  313.632,1134.04 314.082,1144.43 314.532,1145.24 314.982,1128.41 315.432,1123.87 315.882,1131.83 316.332,1124.62 316.782,1128.67 317.232,1124.27 317.682,1126.78 \n",
       "  318.132,1138.71 318.582,1150.37 319.032,1139.03 319.482,1131.54 319.932,1129.81 320.382,1130.59 320.831,1126.55 321.281,1123.72 321.731,1120.82 322.181,1124.67 \n",
       "  322.631,1133.03 323.081,1130.66 323.531,1143.22 323.981,1143.28 324.431,1139.23 324.881,1138.55 325.331,1141.29 325.781,1146.54 326.231,1144.35 326.681,1156.2 \n",
       "  327.131,1150.52 327.581,1159.03 328.031,1154.19 328.481,1156.12 328.931,1142.38 329.381,1145.82 329.831,1156.47 330.281,1164.24 330.731,1176.02 331.181,1173.28 \n",
       "  331.631,1173.67 332.08,1174.39 332.53,1189.64 332.98,1202.05 333.43,1197.98 333.88,1230.35 334.33,1233.98 334.78,1243.99 335.23,1262.99 335.68,1274.27 \n",
       "  336.13,1251.61 336.58,1246.3 337.03,1249.44 337.48,1242.48 337.93,1229.04 338.38,1230.48 338.83,1222.79 339.28,1210.18 339.73,1211.78 340.18,1210.73 \n",
       "  340.63,1216.1 341.08,1219.53 341.53,1204.94 341.98,1195.04 342.43,1198.52 342.88,1199.53 343.33,1194.98 343.779,1207.28 344.229,1212.39 344.679,1209.46 \n",
       "  345.129,1199.57 345.579,1202.66 346.029,1202.4 346.479,1193.44 346.929,1190.72 347.379,1206.56 347.829,1217.7 348.279,1217.7 348.729,1203.06 349.179,1201.2 \n",
       "  349.629,1191.79 350.079,1182.14 350.529,1183.99 350.979,1182.34 351.429,1181.27 351.879,1182.46 352.329,1169.97 352.779,1168.69 353.229,1168.07 353.679,1170.23 \n",
       "  354.129,1162.76 354.579,1167.82 355.028,1171.21 355.478,1163.2 355.928,1158.94 356.378,1163.7 356.828,1176.33 357.278,1169.3 357.728,1169.75 358.178,1175.5 \n",
       "  358.628,1167.15 359.078,1151.15 359.528,1153.11 359.978,1158.4 360.428,1169.46 360.878,1171.37 361.328,1171.18 361.778,1181.83 362.228,1179.6 362.678,1172.81 \n",
       "  363.128,1167.66 363.578,1163.67 364.028,1169.46 364.478,1166.48 364.928,1166.62 365.378,1163.78 365.828,1159.11 366.278,1156.77 366.727,1164.56 367.177,1160.59 \n",
       "  367.627,1154.21 368.077,1149.85 368.527,1154.44 368.977,1156.96 369.427,1160.31 369.877,1159.46 370.327,1166.05 370.777,1170.38 371.227,1165.69 371.677,1176.9 \n",
       "  372.127,1170.09 372.577,1176.9 373.027,1181.87 373.477,1176.53 373.927,1174.14 374.377,1173.46 374.827,1173.6 375.277,1193.11 375.727,1185.33 376.177,1175.32 \n",
       "  376.627,1180.13 377.077,1196.84 377.527,1199.5 377.977,1203.42 378.426,1205.43 378.876,1195.77 379.326,1186.31 379.776,1188.98 380.226,1182.35 380.676,1183.58 \n",
       "  381.126,1190.98 381.576,1203.52 382.026,1194.71 382.476,1204.96 382.926,1199.61 383.376,1187.82 383.826,1187.85 384.276,1187.54 384.726,1189.44 385.176,1174.37 \n",
       "  385.626,1161.09 386.076,1165.72 386.526,1155.72 386.976,1158.86 387.426,1154.79 387.876,1152.41 388.326,1154.02 388.776,1160.94 389.226,1161.57 389.675,1153.68 \n",
       "  390.125,1154.04 390.575,1151.19 391.025,1162.29 391.475,1161.24 391.925,1164.18 392.375,1174.31 392.825,1170.33 393.275,1166.66 393.725,1164.97 394.175,1165.48 \n",
       "  394.625,1171.37 395.075,1178.21 395.525,1177.64 395.975,1179.81 396.425,1178.27 396.875,1182.78 397.325,1175.16 397.775,1191.27 398.225,1186.87 398.675,1191.96 \n",
       "  399.125,1176.42 399.575,1177.8 400.025,1178.77 400.475,1178.35 400.925,1188.78 401.374,1192.92 401.824,1197.62 402.274,1198.62 402.724,1207.75 403.174,1214.29 \n",
       "  403.624,1207.39 404.074,1201.64 404.524,1202.79 404.974,1209.49 405.424,1221.98 405.874,1223.9 406.324,1200.21 406.774,1209.74 407.224,1220.59 407.674,1208.81 \n",
       "  408.124,1195.13 408.574,1198.87 409.024,1194.56 409.474,1189.53 409.924,1198.38 410.374,1205.6 410.824,1201.91 411.274,1195.25 411.724,1203.23 412.174,1208.81 \n",
       "  412.623,1212.96 413.073,1214.77 413.523,1213.27 413.973,1229.2 414.423,1229.19 414.873,1223.65 415.323,1236.14 415.773,1237.11 416.223,1235.18 416.673,1245.7 \n",
       "  417.123,1241.49 417.573,1247.93 418.023,1249.31 418.473,1231.91 418.923,1231.33 419.373,1241.65 419.823,1249.9 420.273,1260.22 420.723,1258.06 421.173,1268.04 \n",
       "  421.623,1269.61 422.073,1259.32 422.523,1259.81 422.973,1272.55 423.423,1284.92 423.873,1281.37 424.322,1260.28 424.772,1267.54 425.222,1282.07 425.672,1301.55 \n",
       "  426.122,1297.4 426.572,1300.99 427.022,1303.08 427.472,1313.24 427.922,1310.59 428.372,1324.97 428.822,1345.31 429.272,1362.11 429.722,1375.43 430.172,1347.92 \n",
       "  430.622,1350.78 431.072,1342.25 431.522,1314.49 431.972,1312.2 432.422,1306.88 432.872,1323.26 433.322,1335.39 433.772,1353.23 434.222,1338.2 434.672,1327.85 \n",
       "  435.122,1314.63 435.571,1308.67 436.021,1311.58 436.471,1323.37 436.921,1302.06 437.371,1295.66 437.821,1296.55 438.271,1283.35 438.721,1291.34 439.171,1284.16 \n",
       "  439.621,1276.13 440.071,1289.28 440.521,1285.01 440.971,1292.91 441.421,1303.11 441.871,1303.16 442.321,1304.2 442.771,1327.1 443.221,1317.84 443.671,1326.42 \n",
       "  444.121,1317.53 444.571,1312.09 445.021,1307.47 445.471,1308.18 445.921,1321.75 446.371,1320 446.821,1319.23 447.27,1329.81 447.72,1332.25 448.17,1347.98 \n",
       "  448.62,1346.74 449.07,1353.77 449.52,1362.46 449.97,1350.19 450.42,1340.98 450.87,1357.58 451.32,1364.86 451.77,1347.71 452.22,1357.26 452.67,1362.65 \n",
       "  453.12,1373.71 453.57,1382.92 454.02,1374.93 454.47,1388.04 454.92,1371.7 455.37,1352.8 455.82,1349.11 456.27,1325.14 456.72,1337.93 457.17,1326.39 \n",
       "  457.62,1323.26 458.07,1314.04 458.52,1319.79 458.969,1316.19 459.419,1324.4 459.869,1315.28 460.319,1319.75 460.769,1324.61 461.219,1319.46 461.669,1322.44 \n",
       "  462.119,1313.29 462.569,1308.84 463.019,1304.61 463.469,1299.57 463.919,1312.27 464.369,1317.03 464.819,1328.2 465.269,1324.13 465.719,1324.38 466.169,1311.3 \n",
       "  466.619,1307.95 467.069,1313.65 467.519,1315.83 467.969,1305.35 468.419,1293.55 468.869,1295.48 469.319,1294.09 469.769,1305.86 470.218,1290.47 470.668,1292.02 \n",
       "  471.118,1293.09 471.568,1301.38 472.018,1303.29 472.468,1309.93 472.918,1306.51 473.368,1318.68 473.818,1311.19 474.268,1310.88 474.718,1312.92 475.168,1320.2 \n",
       "  475.618,1307.61 476.068,1312.07 476.518,1319.88 476.968,1323.35 477.418,1316.43 477.868,1315.45 478.318,1318.4 478.768,1320.09 479.218,1328.67 479.668,1326.27 \n",
       "  480.118,1326.01 480.568,1308.43 481.018,1308.7 481.468,1296.41 481.917,1300.07 482.367,1307.89 482.817,1297.27 483.267,1297.28 483.717,1298.06 484.167,1294.81 \n",
       "  484.617,1302.9 485.067,1305.08 485.517,1312.8 485.967,1321.32 486.417,1326.89 486.867,1321.49 487.317,1337.1 487.767,1345.48 488.217,1338.82 488.667,1335.32 \n",
       "  489.117,1347.21 489.567,1340.53 490.017,1337.75 490.467,1345.05 490.917,1347.82 491.367,1351.09 491.817,1356.19 492.267,1352.41 492.717,1356.48 493.166,1362.81 \n",
       "  493.616,1363.6 494.066,1353.06 494.516,1343.26 494.966,1346.89 495.416,1351.73 495.866,1345.06 496.316,1354.45 496.766,1350.84 497.216,1357.47 497.666,1351.62 \n",
       "  498.116,1349.29 498.566,1353.1 499.016,1360.82 499.466,1356.09 499.916,1360.75 500.366,1356.67 500.816,1369.55 501.266,1373.62 501.716,1371.53 502.166,1354.86 \n",
       "  502.616,1354.03 503.066,1336.26 503.516,1334.06 503.966,1329.51 504.416,1328.41 504.865,1316.4 505.315,1335.4 505.765,1329.07 506.215,1331.96 506.665,1332.82 \n",
       "  507.115,1335.84 507.565,1345.06 508.015,1338.86 508.465,1325.36 508.915,1328.04 509.365,1326.6 509.815,1325.95 510.265,1326.94 510.715,1334.34 511.165,1330.97 \n",
       "  511.615,1332.95 512.065,1322.76 512.515,1319.4 512.965,1325.96 513.415,1317.73 513.865,1318.68 514.315,1307.03 514.765,1302.42 515.215,1306.99 515.665,1314.59 \n",
       "  516.114,1304.94 516.564,1303.13 517.014,1303.69 517.464,1304.06 517.914,1295.76 518.364,1297.89 518.814,1293.17 519.264,1296.04 519.714,1301.67 520.164,1293.76 \n",
       "  520.614,1286.72 521.064,1288.41 521.514,1290.23 521.964,1285.78 522.414,1287.21 522.864,1301.37 523.314,1301.99 523.764,1299.77 524.214,1294.69 524.664,1293.87 \n",
       "  525.114,1282.88 525.564,1281.84 526.014,1283.99 526.464,1275.6 526.914,1273.54 527.364,1270.8 527.813,1261.96 528.263,1259.62 528.713,1261.05 529.163,1268.17 \n",
       "  529.613,1262.81 530.063,1255.2 530.513,1254.58 530.963,1260.54 531.413,1247.22 531.863,1246.66 532.313,1247.61 532.763,1256.87 533.213,1256.28 533.663,1264.73 \n",
       "  534.113,1263.64 534.563,1268.54 535.013,1262.22 535.463,1267.99 535.913,1269.03 536.363,1264.32 536.813,1257.44 537.263,1262.29 537.713,1251.02 538.163,1248.96 \n",
       "  538.613,1252.35 539.063,1260.48 539.512,1254.8 539.962,1251.36 540.412,1253.43 540.862,1257.29 541.312,1264.68 541.762,1257.7 542.212,1266.44 542.662,1260.84 \n",
       "  543.112,1260.54 543.562,1264.76 544.012,1254.48 544.462,1255.78 544.912,1260.13 545.362,1261.21 545.812,1259.51 546.262,1265.63 546.712,1264.02 547.162,1274.47 \n",
       "  547.612,1273.5 548.062,1269.26 548.512,1267.17 548.962,1265.36 549.412,1259.49 549.862,1263.29 550.312,1259.39 550.761,1259.3 551.211,1253.84 551.661,1252.27 \n",
       "  552.111,1253.5 552.561,1251.71 553.011,1257.86 553.461,1257.47 553.911,1255.65 554.361,1255.61 554.811,1251.97 555.261,1248.86 555.711,1240.45 556.161,1237.87 \n",
       "  556.611,1236.85 557.061,1240.81 557.511,1234.64 557.961,1239.74 558.411,1247.11 558.861,1243.8 559.311,1242.47 559.761,1244.77 560.211,1236.04 560.661,1238.05 \n",
       "  561.111,1229.86 561.561,1231.83 562.011,1239.95 562.46,1236.21 562.91,1248.04 563.36,1251.71 563.81,1255.58 564.26,1249.72 564.71,1256.11 565.16,1242.72 \n",
       "  565.61,1241.5 566.06,1235.72 566.51,1233.01 566.96,1230.06 567.41,1233.35 567.86,1230.37 568.31,1230.77 568.76,1226.39 569.21,1223.9 569.66,1225.54 \n",
       "  570.11,1223.55 570.56,1230.02 571.01,1226.79 571.46,1225.98 571.91,1235.41 572.36,1233.36 572.81,1236.28 573.26,1234.95 573.709,1225.52 574.159,1224.73 \n",
       "  574.609,1225.43 575.059,1223.16 575.509,1218.16 575.959,1221.63 576.409,1222.5 576.859,1218.74 577.309,1221.66 577.759,1225.33 578.209,1225.65 578.659,1218.44 \n",
       "  579.109,1218.53 579.559,1223.38 580.009,1227.42 580.459,1233.13 580.909,1228.14 581.359,1233.43 581.809,1232.45 582.259,1222.34 582.709,1221.25 583.159,1218.5 \n",
       "  583.609,1218.65 584.059,1211.48 584.509,1213.59 584.959,1214.72 585.408,1211.72 585.858,1216.67 586.308,1211.97 586.758,1217.46 587.208,1218.14 587.658,1210.82 \n",
       "  588.108,1209.06 588.558,1212.73 589.008,1208.46 589.458,1207.65 589.908,1200.01 590.358,1200.32 590.808,1197.74 591.258,1195.89 591.708,1197.08 592.158,1195.97 \n",
       "  592.608,1187.79 593.058,1187.69 593.508,1186.32 593.958,1188.39 594.408,1180.12 594.858,1179.25 595.308,1177.65 595.758,1174.28 596.208,1180.34 596.658,1177.11 \n",
       "  597.107,1180.72 597.557,1175.13 598.007,1174.21 598.457,1169.52 598.907,1170.16 599.357,1164.83 599.807,1167.05 600.257,1168.49 600.707,1160.17 601.157,1166.98 \n",
       "  601.607,1176.35 602.057,1172.97 602.507,1174.76 602.957,1172.27 603.407,1171.81 603.857,1177.53 604.307,1176.29 604.757,1167.76 605.207,1169.53 605.657,1166.09 \n",
       "  606.107,1158.73 606.557,1162.13 607.007,1165.92 607.457,1159.19 607.907,1162.31 608.356,1165.17 608.806,1166.95 609.256,1168.82 609.706,1169.97 610.156,1167.21 \n",
       "  610.606,1165.93 611.056,1166.45 611.506,1159.81 611.956,1163.94 612.406,1162.78 612.856,1160.47 613.306,1159.27 613.756,1165.09 614.206,1169.07 614.656,1179.12 \n",
       "  615.106,1189.41 615.556,1181.11 616.006,1190.79 616.456,1187.06 616.906,1179.2 617.356,1180.06 617.806,1187.61 618.256,1196.26 618.706,1197.14 619.156,1198.71 \n",
       "  619.606,1187.96 620.055,1188.64 620.505,1179.97 620.955,1177.24 621.405,1177.72 621.855,1174.13 622.305,1168.33 622.755,1163.06 623.205,1164.51 623.655,1169.1 \n",
       "  624.105,1169.83 624.555,1166.29 625.005,1175.78 625.455,1176.54 625.905,1176.14 626.355,1172.69 626.805,1171.94 627.255,1182.57 627.705,1179 628.155,1169.46 \n",
       "  628.605,1169.06 629.055,1172.11 629.505,1170.56 629.955,1180.01 630.405,1185.14 630.855,1189.1 631.304,1182.97 631.754,1181.73 632.204,1180.54 632.654,1185.07 \n",
       "  633.104,1194.28 633.554,1201.25 634.004,1196.23 634.454,1195.13 634.904,1195.64 635.354,1196.08 635.804,1203.06 636.254,1198.62 636.704,1200.31 637.154,1200 \n",
       "  637.604,1197.37 638.054,1196.26 638.504,1185.64 638.954,1184.5 639.404,1180.69 639.854,1181.05 640.304,1180.74 640.754,1178.45 641.204,1183.48 641.654,1179.95 \n",
       "  642.104,1169.17 642.554,1168.11 643.003,1174.64 643.453,1171.54 643.903,1178.27 644.353,1174.23 644.803,1173.3 645.253,1174.21 645.703,1172.42 646.153,1175.26 \n",
       "  646.603,1172.78 647.053,1166.98 647.503,1169.03 647.953,1172.77 648.403,1173.42 648.853,1171.71 649.303,1168.91 649.753,1176.08 650.203,1178.22 650.653,1183.74 \n",
       "  651.103,1182.46 651.553,1188.01 652.003,1185.79 652.453,1184.86 652.903,1184.38 653.353,1186.59 653.803,1189.47 654.252,1192.66 654.702,1192.95 655.152,1188.28 \n",
       "  655.602,1197.18 656.052,1195.4 656.502,1201.8 656.952,1203.08 657.402,1196.61 657.852,1196.25 658.302,1193.24 658.752,1192.46 659.202,1189.51 659.652,1193.68 \n",
       "  660.102,1194.32 660.552,1205.11 661.002,1215.18 661.452,1214.43 661.902,1206.11 662.352,1208.07 662.802,1215.63 663.252,1214.68 663.702,1205.93 664.152,1204.5 \n",
       "  664.602,1196.4 665.052,1198.77 665.502,1194.49 665.951,1196.1 666.401,1195.79 666.851,1190.51 667.301,1190.43 667.751,1188.82 668.201,1194.01 668.651,1190.94 \n",
       "  669.101,1189.94 669.551,1182.47 670.001,1185.29 670.451,1180.68 670.901,1183.7 671.351,1182.43 671.801,1179.1 672.251,1177.95 672.701,1176.44 673.151,1181.23 \n",
       "  673.601,1179.35 674.051,1176.31 674.501,1180.13 674.951,1175.86 675.401,1185.33 675.851,1188.46 676.301,1187.41 676.751,1191.38 677.201,1187.44 677.65,1184.59 \n",
       "  678.1,1184.72 678.55,1174.54 679,1172.33 679.45,1172.74 679.9,1168.19 680.35,1175.05 680.8,1180.17 681.25,1178.82 681.7,1180.35 682.15,1185.28 \n",
       "  682.6,1191.51 683.05,1188.56 683.5,1185.06 683.95,1191.55 684.4,1191.29 684.85,1189.59 685.3,1196.06 685.75,1196.62 686.2,1186.82 686.65,1178.24 \n",
       "  687.1,1176.98 687.55,1175.32 688,1175.13 688.45,1175.11 688.899,1167.49 689.349,1156.38 689.799,1153.67 690.249,1154.44 690.699,1154.93 691.149,1155.63 \n",
       "  691.599,1149.27 692.049,1142.84 692.499,1143.05 692.949,1148.1 693.399,1144.18 693.849,1143.21 694.299,1151.16 694.749,1147.01 695.199,1147.19 695.649,1144.29 \n",
       "  696.099,1143.75 696.549,1146.21 696.999,1149.09 697.449,1138.5 697.899,1139.13 698.349,1138.62 698.799,1139.18 699.249,1147.11 699.699,1143.65 700.149,1139.78 \n",
       "  700.598,1140.53 701.048,1134.1 701.498,1131.27 701.948,1129.87 702.398,1131.38 702.848,1136.8 703.298,1136.53 703.748,1130.03 704.198,1127.55 704.648,1127.21 \n",
       "  705.098,1130.35 705.548,1125.16 705.998,1125.21 706.448,1125.15 706.898,1126.13 707.348,1132.06 707.798,1140.5 708.248,1143.09 708.698,1140.6 709.148,1141.62 \n",
       "  709.598,1139.18 710.048,1143.55 710.498,1140.71 710.948,1146.88 711.398,1142.62 711.847,1135.73 712.297,1142.56 712.747,1148.11 713.197,1152.65 713.647,1155.13 \n",
       "  714.097,1152.32 714.547,1148.91 714.997,1148.63 715.447,1150.55 715.897,1144.58 716.347,1139.68 716.797,1137.41 717.247,1139.39 717.697,1131.48 718.147,1132.27 \n",
       "  718.597,1131.92 719.047,1138.13 719.497,1135.11 719.947,1130.12 720.397,1129.61 720.847,1127.22 721.297,1127.08 721.747,1132.86 722.197,1132.35 722.647,1142.84 \n",
       "  723.097,1138.85 723.546,1133.19 723.996,1126.46 724.446,1131.14 724.896,1127.04 725.346,1127.24 725.796,1127.01 726.246,1119.99 726.696,1118.07 727.146,1121.61 \n",
       "  727.596,1129.09 728.046,1127.74 728.496,1133.26 728.946,1129.2 729.396,1134.66 729.846,1140.49 730.296,1139.2 730.746,1139.54 731.196,1143.07 731.646,1150.33 \n",
       "  732.096,1149.84 732.546,1150.51 732.996,1148.79 733.446,1154.16 733.896,1144.5 734.346,1144.99 734.795,1149.68 735.245,1147.68 735.695,1144.51 736.145,1142.9 \n",
       "  736.595,1138.64 737.045,1144.62 737.495,1144.62 737.945,1140.67 738.395,1149.08 738.845,1156.15 739.295,1167.84 739.745,1165.82 740.195,1161.73 740.645,1170.92 \n",
       "  741.095,1157.41 741.545,1162.13 741.995,1156.12 742.445,1162.35 742.895,1159.56 743.345,1167.48 743.795,1159.28 744.245,1156.08 744.695,1156.68 745.145,1147.96 \n",
       "  745.595,1149.78 746.045,1150.55 746.494,1146.04 746.944,1153.64 747.394,1150.7 747.844,1157.77 748.294,1160.96 748.744,1153.96 749.194,1149.08 749.644,1142 \n",
       "  750.094,1138.68 750.544,1139.76 750.994,1137 751.444,1136.88 751.894,1139.32 752.344,1134.74 752.794,1134.04 753.244,1138.42 753.694,1131.94 754.144,1130.73 \n",
       "  754.594,1135.7 755.044,1134.81 755.494,1134.96 755.944,1136.52 756.394,1132.75 756.844,1134.45 757.294,1132.81 757.744,1130.95 758.193,1129.37 758.643,1126.73 \n",
       "  759.093,1123.1 759.543,1123.62 759.993,1125.12 760.443,1124.95 760.893,1132.87 761.343,1138.38 761.793,1138.91 762.243,1132.36 762.693,1133.4 763.143,1138.53 \n",
       "  763.593,1136.65 764.043,1130.3 764.493,1136.35 764.943,1134.59 765.393,1126.17 765.843,1121.61 766.293,1119.94 766.743,1119.29 767.193,1117.36 767.643,1116.5 \n",
       "  768.093,1120.59 768.543,1115.64 768.993,1112.12 769.442,1117.03 769.892,1113.04 770.342,1115.84 770.792,1114.55 771.242,1111.17 771.692,1106.99 772.142,1112.74 \n",
       "  772.592,1112.03 773.042,1106.75 773.492,1106.2 773.942,1111.73 774.392,1117.41 774.842,1119.39 775.292,1114.42 775.742,1115.78 776.192,1110.55 776.642,1115.01 \n",
       "  777.092,1112.92 777.542,1121.67 777.992,1121.13 778.442,1121.86 778.892,1121.45 779.342,1120.23 779.792,1122.73 780.242,1127.54 780.692,1125.84 781.141,1130.24 \n",
       "  781.591,1125.92 782.041,1128.25 782.491,1121.07 782.941,1120.31 783.391,1122.46 783.841,1113.21 784.291,1111.42 784.741,1114.25 785.191,1108.34 785.641,1108.89 \n",
       "  786.091,1114.53 786.541,1116.96 786.991,1116.2 787.441,1110.49 787.891,1114.64 788.341,1120.46 788.791,1127.17 789.241,1124.51 789.691,1124.11 790.141,1123.9 \n",
       "  790.591,1123.88 791.041,1123.14 791.491,1116.65 791.941,1115.97 792.39,1117.24 792.84,1124.6 793.29,1135.48 793.74,1138.43 794.19,1135.78 794.64,1140.93 \n",
       "  795.09,1142.41 795.54,1146.74 795.99,1147.25 796.44,1141.39 796.89,1139.27 797.34,1146.46 797.79,1135.86 798.24,1146.67 798.69,1145.59 799.14,1133.68 \n",
       "  799.59,1135.39 800.04,1138.5 800.49,1146.01 800.94,1134.27 801.39,1129.09 801.84,1131.65 802.29,1124.42 802.74,1121.31 803.19,1121.19 803.64,1119.58 \n",
       "  804.089,1122.12 804.539,1120.88 804.989,1114.67 805.439,1112.41 805.889,1112.99 806.339,1115.85 806.789,1114.52 807.239,1107.55 807.689,1104.26 808.139,1100.3 \n",
       "  808.589,1096.46 809.039,1093.82 809.489,1092.23 809.939,1098.72 810.389,1098.71 810.839,1103.53 811.289,1094.39 811.739,1094.14 812.189,1095.94 812.639,1094.97 \n",
       "  813.089,1098.78 813.539,1099.7 813.989,1097.58 814.439,1096.94 814.889,1092.72 815.338,1089.53 815.788,1090.61 816.238,1092.79 816.688,1097.24 817.138,1097.42 \n",
       "  817.588,1095.52 818.038,1092.31 818.488,1091.98 818.938,1099.28 819.388,1098.3 819.838,1100.55 820.288,1104.24 820.738,1091.9 821.188,1089.09 821.638,1089.08 \n",
       "  822.088,1081.88 822.538,1079.05 822.988,1079.31 823.438,1076.62 823.888,1081.51 824.338,1080.58 824.788,1083.39 825.238,1086.4 825.688,1082.13 826.138,1096.3 \n",
       "  826.588,1094.9 827.037,1093.07 827.487,1094.38 827.937,1088.87 828.387,1082.92 828.837,1082.03 829.287,1085.11 829.737,1083.68 830.187,1090.67 830.637,1094.77 \n",
       "  831.087,1094.17 831.537,1100.34 831.987,1093.8 832.437,1094.9 832.887,1092.99 833.337,1095.47 833.787,1087.85 834.237,1085.16 834.687,1079.51 835.137,1080.8 \n",
       "  835.587,1083.33 836.037,1077.53 836.487,1080.47 836.937,1079.48 837.387,1076.66 837.837,1084.76 838.287,1078.39 838.736,1079.66 839.186,1080.81 839.636,1086.21 \n",
       "  840.086,1087.64 840.536,1086.08 840.986,1089.84 841.436,1084.21 841.886,1082.67 842.336,1074.64 842.786,1071.3 843.236,1069.91 843.686,1068.76 844.136,1070.06 \n",
       "  844.586,1074.79 845.036,1070.09 845.486,1072.12 845.936,1071.35 846.386,1072.15 846.836,1077.2 847.286,1071.38 847.736,1072.97 848.186,1071.39 848.636,1074.44 \n",
       "  849.086,1069.55 849.536,1066.16 849.985,1067.68 850.435,1075.82 850.885,1075.17 851.335,1081.2 851.785,1080.27 852.235,1079.67 852.685,1081.95 853.135,1068.52 \n",
       "  853.585,1067.14 854.035,1066.22 854.485,1066.33 854.935,1068.24 855.385,1072.07 855.835,1069.86 856.285,1067.27 856.735,1066.74 857.185,1070 857.635,1065.17 \n",
       "  858.085,1068.4 858.535,1065.75 858.985,1057.62 859.435,1058.28 859.885,1058.33 860.335,1059.5 860.785,1069.58 861.235,1078.42 861.684,1076.43 862.134,1078.1 \n",
       "  862.584,1091.03 863.034,1096.11 863.484,1092.96 863.934,1095.96 864.384,1099.27 864.834,1098.15 865.284,1089.55 865.734,1085.13 866.184,1097.57 866.634,1091.15 \n",
       "  867.084,1081.72 867.534,1080.25 867.984,1094.05 868.434,1095.02 868.884,1099.56 869.334,1098.44 869.784,1101.85 870.234,1111.59 870.684,1119.07 871.134,1115.25 \n",
       "  871.584,1099.51 872.034,1102.29 872.484,1109.16 872.933,1109.18 873.383,1102.06 873.833,1105.87 874.283,1106.52 874.733,1102.88 875.183,1109.84 875.633,1105.66 \n",
       "  876.083,1089.46 876.533,1091.14 876.983,1085.13 877.433,1090.83 877.883,1088.72 878.333,1093.91 878.783,1092.83 879.233,1089.74 879.683,1098.05 880.133,1107.85 \n",
       "  880.583,1111.52 881.033,1112.56 881.483,1111.2 881.933,1097.31 882.383,1103.74 882.833,1109.08 883.283,1096.65 883.733,1091.86 884.183,1092.26 884.632,1095.3 \n",
       "  885.082,1086.04 885.532,1086.04 885.982,1090.74 886.432,1086.23 886.882,1085 887.332,1085.57 887.782,1087.76 888.232,1090.5 888.682,1093.75 889.132,1090.19 \n",
       "  889.582,1093.18 890.032,1092.27 890.482,1081.99 890.932,1075.91 891.382,1074.64 891.832,1071.74 892.282,1074.61 892.732,1073.89 893.182,1077.35 893.632,1075.58 \n",
       "  894.082,1076.08 894.532,1072.18 894.982,1070.89 895.432,1070.56 895.881,1070.83 896.331,1066.54 896.781,1065.27 897.231,1072.99 897.681,1076.72 898.131,1073.81 \n",
       "  898.581,1073.4 899.031,1065.45 899.481,1062.29 899.931,1063.32 900.381,1061.17 900.831,1060.38 901.281,1062.12 901.731,1058.14 902.181,1062.27 902.631,1064.23 \n",
       "  903.081,1057.26 903.531,1051.38 903.981,1051.12 904.431,1049.56 904.881,1051.56 905.331,1054.27 905.781,1052.77 906.231,1043.12 906.681,1041.09 907.131,1043.28 \n",
       "  907.58,1042.65 908.03,1041.05 908.48,1043.06 908.93,1035.31 909.38,1033.63 909.83,1031.56 910.28,1034.64 910.73,1033.43 911.18,1032.83 911.63,1031.84 \n",
       "  912.08,1026.77 912.53,1026.56 912.98,1023.64 913.43,1019.62 913.88,1026.6 914.33,1026.22 914.78,1026.32 915.23,1032.53 915.68,1032.61 916.13,1034.44 \n",
       "  916.58,1025.12 917.03,1023.47 917.48,1021.7 917.93,1025.98 918.38,1024.62 918.83,1022.35 919.279,1017.2 919.729,1015.02 920.179,1013.08 920.629,1012.23 \n",
       "  921.079,1012.68 921.529,1011.32 921.979,1009.36 922.429,1012.36 922.879,1024 923.329,1021.29 923.779,1013.25 924.229,1012.55 924.679,1014.94 925.129,1007.46 \n",
       "  925.579,1004.27 926.029,1005.19 926.479,1008.56 926.929,1007.03 927.379,1005.11 927.829,1006.12 928.279,1005.01 928.729,997.599 929.179,996.636 929.629,999.44 \n",
       "  930.079,997.58 930.528,998.971 930.978,1002.04 931.428,1006.46 931.878,1002.93 932.328,996.822 932.778,998.062 933.228,1002.08 933.678,1002.94 934.128,1001.9 \n",
       "  934.578,1007.36 935.028,1005.21 935.478,1007.7 935.928,1004 936.378,998.598 936.828,994.439 937.278,993.813 937.728,994.523 938.178,997.075 938.628,994.595 \n",
       "  939.078,999.121 939.528,996.106 939.978,988.787 940.428,998.549 940.878,999.675 941.328,1000.53 941.778,995.691 942.227,990.123 942.677,985.284 943.127,983.846 \n",
       "  943.577,984.658 944.027,984.4 944.477,982.847 944.927,983.894 945.377,990.063 945.827,992.94 946.277,986.506 946.727,979.741 947.177,978.766 947.627,979.512 \n",
       "  948.077,977.063 948.527,978.453 948.977,979.097 949.427,982.215 949.877,983.292 950.327,1013.75 950.777,1008.84 951.227,1011.03 951.677,1020.69 952.127,1028.55 \n",
       "  952.577,1015.93 953.027,1017.82 953.476,1011.8 953.926,1011.25 954.376,1009.18 954.826,1026.26 955.276,1020.69 955.726,1017.58 956.176,1020.79 956.626,1011.71 \n",
       "  957.076,1006.36 957.526,991.845 957.976,992.146 958.426,991.201 958.876,990.37 959.326,995.871 959.776,1002.6 960.226,999.38 960.676,1000.4 961.126,998.327 \n",
       "  961.576,990.214 962.026,989.497 962.476,986.59 962.926,986.103 963.376,983.906 963.826,989.54 964.276,984.165 964.726,981.131 965.175,971.724 965.625,969.919 \n",
       "  966.075,969.311 966.525,970.388 966.975,962.179 967.425,964.225 967.875,964.616 968.325,955.594 968.775,956.232 969.225,956.316 969.675,963.358 970.125,961.095 \n",
       "  970.575,955.42 971.025,951.333 971.475,949.395 971.925,947.114 972.375,948.342 972.825,945.326 973.275,957.881 973.725,949.28 974.175,950.875 974.625,952.296 \n",
       "  975.075,944.315 975.525,945.079 975.975,939.055 976.425,937.64 976.874,938.248 977.324,939.446 977.774,948.233 978.224,943.388 978.674,942.154 979.124,934.577 \n",
       "  979.574,934.318 980.024,930.911 980.474,929.202 980.924,934.348 981.374,942.299 981.824,958.339 982.274,948.149 982.724,947.258 983.174,957.171 983.624,943.37 \n",
       "  984.074,938.922 984.524,932.946 984.974,934.077 985.424,932.476 985.874,945.224 986.324,939.392 986.774,951.206 987.224,954.144 987.674,957.189 988.123,948.943 \n",
       "  988.573,949.317 989.023,949.943 989.473,941.239 989.923,937.785 990.373,937.725 990.823,934.432 991.273,933.578 991.723,946.771 992.173,941.468 992.623,924.05 \n",
       "  993.073,921.149 993.523,922.943 993.973,923.135 994.423,924.983 994.873,920.734 995.323,932.248 995.773,927.728 996.223,946.109 996.673,941.859 997.123,963.316 \n",
       "  997.573,977.466 998.023,968.456 998.473,979.723 998.923,973.536 999.373,969.491 999.822,993.048 1000.27,972.236 1000.72,967.06 1001.17,954.426 1001.62,980.981 \n",
       "  1002.07,980.782 1002.52,981.113 1002.97,997.195 1003.42,1008.94 1003.87,1006.16 1004.32,985.284 1004.77,985.519 1005.22,984.628 1005.67,974.384 1006.12,975.414 \n",
       "  1006.57,965.17 1007.02,972.777 1007.47,993.668 1007.92,974.613 1008.37,978.26 1008.82,968.42 1009.27,959.512 1009.72,969.582 1010.17,965.657 1010.62,980.734 \n",
       "  1011.07,981.824 1011.52,970.141 1011.97,969.919 1012.42,962.407 1012.87,962.233 1013.32,966.813 1013.77,940.86 1014.22,935.48 1014.67,941.462 1015.12,937.249 \n",
       "  1015.57,942.913 1016.02,941.54 1016.47,936.304 1016.92,933.945 1017.37,936.322 1017.82,924.483 1018.27,925.182 1018.72,928.727 1019.17,926.361 1019.62,918.736 \n",
       "  1020.07,920.74 1020.52,913.638 1020.97,913.794 1021.42,919.398 1021.87,915.281 1022.32,923.972 1022.77,926 1023.22,929.1 1023.67,928.672 1024.12,954.077 \n",
       "  1024.57,947.15 1025.02,942.75 1025.47,943.027 1025.92,939.404 1026.37,930.526 1026.82,929.022 1027.27,933.397 1027.72,925.188 1028.17,946.085 1028.62,949.371 \n",
       "  1029.07,949.539 1029.52,943.442 1029.97,967.631 1030.42,972.254 1030.87,980.638 1031.32,988.047 1031.77,962.738 1032.22,971.983 1032.67,980.981 1033.12,978.808 \n",
       "  1033.57,992.164 1034.02,992.043 1034.47,1002.33 1034.92,988.414 1035.37,1007.16 1035.82,993.103 1036.27,972.362 1036.72,969.702 1037.17,965.007 1037.62,969.997 \n",
       "  1038.07,973.68 1038.52,962.022 1038.97,947.571 1039.42,949.672 1039.87,942.708 1040.32,960.222 1040.77,962.817 1041.22,961.059 1041.67,973.783 1042.12,985.296 \n",
       "  1042.57,980.012 1043.02,978.977 1043.47,974.902 1043.92,962.046 1044.37,955.684 1044.82,955.726 1045.27,964.887 1045.72,967.644 1046.17,972.025 1046.62,984.315 \n",
       "  1047.07,986.446 1047.52,1004.47 1047.97,1003.48 1048.42,1018.8 1048.87,1008.85 1049.32,1000.95 1049.77,1011.18 1050.22,1005.78 1050.67,1026.53 1051.12,1028.11 \n",
       "  1051.57,1052.72 1052.02,1065.33 1052.47,1066.86 1052.92,1048.97 1053.37,1038.62 1053.82,1054.64 1054.27,1039.45 1054.72,1035.67 1055.17,1041.84 1055.62,1025.81 \n",
       "  1056.07,1015.71 1056.52,1024.8 1056.97,1049.36 1057.42,1058.67 1057.87,1050.92 1058.32,1053.91 1058.77,1048.72 1059.22,1041.15 1059.67,1032.6 1060.12,1044.52 \n",
       "  1060.57,1039.5 1061.02,1044 1061.47,1035.68 1061.92,1046.51 1062.37,1041.37 1062.82,1029.93 1063.27,1025.6 1063.72,1026.08 1064.17,1034.56 1064.62,1054.79 \n",
       "  1065.07,1055.32 1065.52,1056.46 1065.97,1053.74 1066.42,1072.2 1066.87,1077.24 1067.32,1088.53 1067.77,1060.4 1068.22,1069.96 1068.67,1063.46 1069.12,1083.23 \n",
       "  1069.57,1086.87 1070.02,1054.48 1070.47,1073.32 1070.92,1054.89 1071.37,1043.59 1071.82,1041.55 1072.27,1048.84 1072.72,1056.86 1073.17,1063.54 1073.62,1057.23 \n",
       "  1074.07,1031.01 1074.52,1033.58 1074.97,1031.08 1075.42,1028.77 1075.87,1030.89 1076.32,1033.7 1076.77,1039.8 1077.22,1038.22 1077.67,1053.74 1078.12,1054.03 \n",
       "  1078.57,1050.84 1079.02,1034.98 1079.47,1031.59 1079.92,1020.33 1080.37,1021.1 1080.82,1025.93 1081.27,1024.66 1081.72,1020.23 1082.17,1014.16 1082.62,1015.58 \n",
       "  1083.07,1018.22 1083.52,1021.38 1083.97,1007.42 1084.42,1003.7 1084.87,1009.56 1085.32,1002.41 1085.76,1016.37 1086.21,1016 1086.66,1019.31 1087.11,1010.29 \n",
       "  1087.56,1009.53 1088.01,1007.9 1088.46,998.556 1088.91,997.719 1089.36,998.194 1089.81,1004.47 1090.26,1018.45 1090.71,1017.63 1091.16,1027.4 1091.61,1021.04 \n",
       "  1092.06,1018.65 1092.51,1013.92 1092.96,1013.16 1093.41,1021.11 1093.86,1027.22 1094.31,1026.49 1094.76,1012.9 1095.21,1036.51 1095.66,1037.62 1096.11,1038.76 \n",
       "  1096.56,1051.59 1097.01,1047.96 1097.46,1037.7 1097.91,1036.58 1098.36,1043.27 1098.81,1050.92 1099.26,1048.43 1099.71,1061.22 1100.16,1062.75 1100.61,1064.37 \n",
       "  1101.06,1063.32 1101.51,1082.99 1101.96,1086.33 1102.41,1087.15 1102.86,1081.66 1103.31,1095.41 1103.76,1095.45 1104.21,1102.11 1104.66,1089.14 1105.11,1106.07 \n",
       "  1105.56,1104.02 1106.01,1108.26 1106.46,1117.16 1106.91,1124.49 1107.36,1105.44 1107.81,1098.27 1108.26,1096.1 1108.71,1098.95 1109.16,1085.84 1109.61,1083.22 \n",
       "  1110.06,1101.1 1110.51,1098.54 1110.96,1111.41 1111.41,1094.48 1111.86,1084.33 1112.31,1091.53 1112.76,1101.25 1113.21,1100.28 1113.66,1082.76 1114.11,1081.24 \n",
       "  1114.56,1093.41 1115.01,1076.48 1115.46,1070.24 1115.91,1079.96 1116.36,1083.89 1116.81,1076.82 1117.26,1074.24 1117.71,1087.17 1118.16,1092.78 1118.61,1090.53 \n",
       "  1119.06,1086.61 1119.51,1078.86 1119.96,1092.96 1120.41,1090.4 1120.86,1082.88 1121.31,1075.23 1121.76,1080.45 1122.21,1087.2 1122.66,1090.09 1123.11,1113.32 \n",
       "  1123.56,1103.52 1124.01,1092.39 1124.46,1116.76 1124.91,1115.83 1125.36,1105.69 1125.81,1102.66 1126.26,1140.34 1126.71,1127.08 1127.16,1159.14 1127.61,1125.42 \n",
       "  1128.06,1099.98 1128.51,1128.73 1128.96,1140.05 1129.41,1140.61 1129.86,1130.62 1130.31,1127.85 1130.76,1185.2 1131.21,1154.87 1131.66,1157 1132.11,1184.37 \n",
       "  1132.56,1194.96 1133.01,1219.01 1133.46,1260.36 1133.91,1260.65 1134.36,1312.48 1134.81,1306.2 1135.26,1247.68 1135.71,1256.93 1136.16,1308.13 1136.61,1288.42 \n",
       "  1137.06,1287.68 1137.51,1265.48 1137.96,1282.77 1138.41,1314.42 1138.86,1316.75 1139.31,1329.35 1139.76,1344.61 1140.21,1290.09 1140.66,1290.17 1141.11,1281.9 \n",
       "  1141.56,1272.54 1142.01,1270.95 1142.46,1252.57 1142.91,1282.33 1143.36,1309.39 1143.81,1291.75 1144.26,1303.55 1144.71,1317.85 1145.16,1342.08 1145.61,1311.24 \n",
       "  1146.06,1329.98 1146.51,1342.55 1146.96,1338.53 1147.41,1370.52 1147.86,1400.63 1148.31,1373.33 1148.76,1341.92 1149.21,1342.22 1149.66,1321.76 1150.11,1320.72 \n",
       "  1150.56,1363.26 1151.01,1347.81 1151.46,1332.08 1151.91,1347.31 1152.36,1324.28 1152.81,1309.97 1153.26,1318.58 1153.71,1314.86 1154.16,1330.85 1154.61,1325.26 \n",
       "  1155.06,1331 1155.51,1308.96 1155.96,1310.27 1156.41,1321.72 1156.86,1321.57 1157.31,1329.33 1157.76,1335.61 1158.21,1332.22 1158.66,1330.5 1159.11,1331.58 \n",
       "  1159.56,1319.53 1160.01,1312.07 1160.46,1296.31 1160.91,1295.11 1161.36,1297.35 1161.81,1310.42 1162.26,1307.9 1162.71,1319.65 1163.16,1332.05 1163.61,1333.56 \n",
       "  1164.06,1348.78 1164.51,1347.3 1164.96,1344.18 1165.41,1369.98 1165.86,1350.14 1166.31,1360.72 1166.76,1354.5 1167.21,1351.61 1167.66,1346.53 1168.11,1332.59 \n",
       "  1168.56,1346.56 1169.01,1360.16 1169.46,1358.59 1169.91,1351.32 1170.36,1354.95 1170.81,1346.32 1171.26,1332.98 1171.71,1333.81 1172.16,1357.56 1172.61,1356.05 \n",
       "  1173.06,1353.62 1173.51,1362.86 1173.96,1379.44 1174.41,1381.33 1174.86,1388.58 1175.31,1390.16 1175.76,1407.35 1176.21,1391.73 1176.66,1394.66 1177.11,1404.19 \n",
       "  1177.56,1416.45 1178.01,1431.57 1178.46,1435.09 1178.91,1429.27 1179.36,1443.85 1179.81,1445.82 1180.26,1446.71 1180.71,1422.45 1181.16,1421.67 1181.61,1402.96 \n",
       "  1182.06,1398.83 1182.51,1401.81 1182.96,1388.49 1183.41,1375.31 1183.86,1383.34 1184.31,1390.72 1184.76,1361.66 1185.21,1369.96 1185.66,1365.59 1186.11,1356.79 \n",
       "  1186.56,1368.6 1187.01,1379.54 1187.46,1377.91 1187.91,1365.31 1188.36,1352.91 1188.81,1350.13 1189.26,1353.52 1189.71,1363.97 1190.16,1356.43 1190.61,1340.75 \n",
       "  1191.06,1339.82 1191.51,1350.32 1191.96,1341.23 1192.41,1334.83 1192.86,1332.97 1193.31,1355.25 1193.76,1345.61 1194.21,1347.2 1194.66,1341.61 1195.11,1336.25 \n",
       "  1195.56,1341.27 1196.01,1339.84 1196.46,1327.96 1196.91,1330.28 1197.36,1326.38 1197.81,1310.2 1198.26,1311.49 1198.71,1302.08 1199.16,1308.43 1199.61,1300.03 \n",
       "  1200.06,1307.54 1200.51,1310.62 1200.95,1323.35 1201.4,1318.23 1201.85,1322.25 1202.3,1308.05 1202.75,1308.68 1203.2,1313.62 1203.65,1320.68 1204.1,1321.69 \n",
       "  1204.55,1307.88 1205,1318.11 1205.45,1309.64 1205.9,1299.87 1206.35,1288.07 1206.8,1288.28 1207.25,1294.31 1207.7,1286.38 1208.15,1290.93 1208.6,1289.58 \n",
       "  1209.05,1288.15 1209.5,1290.37 1209.95,1287.72 1210.4,1288.32 1210.85,1298.46 1211.3,1306.71 1211.75,1307.33 1212.2,1301.86 1212.65,1302.96 1213.1,1317.81 \n",
       "  1213.55,1316.09 1214,1314.2 1214.45,1302.53 1214.9,1301.92 1215.35,1297.53 1215.8,1301.34 1216.25,1301.09 1216.7,1317.32 1217.15,1314.71 1217.6,1324.76 \n",
       "  1218.05,1325.14 1218.5,1325.89 1218.95,1326.17 1219.4,1313.41 1219.85,1307.76 1220.3,1295.71 1220.75,1289.46 1221.2,1288.55 1221.65,1282.59 1222.1,1281.73 \n",
       "  1222.55,1281.33 1223,1270.44 1223.45,1266.54 1223.9,1264.83 1224.35,1267.13 1224.8,1268.12 1225.25,1261.63 1225.7,1259.57 1226.15,1252.83 1226.6,1250.43 \n",
       "  1227.05,1251.24 1227.5,1253.78 1227.95,1248.33 1228.4,1250.21 1228.85,1257.29 1229.3,1250.15 1229.75,1246.32 1230.2,1254.78 1230.65,1265.35 1231.1,1261.58 \n",
       "  1231.55,1255.84 1232,1248.23 1232.45,1237.68 1232.9,1237.65 1233.35,1237.22 1233.8,1236.94 1234.25,1234.65 1234.7,1238.51 1235.15,1241.93 1235.6,1256.05 \n",
       "  1236.05,1256.02 1236.5,1251.37 1236.95,1242.45 1237.4,1238.42 1237.85,1233.83 1238.3,1227.25 1238.75,1229.52 1239.2,1224.17 1239.65,1221.19 1240.1,1212.83 \n",
       "  1240.55,1213.6 1241,1213.27 1241.45,1213.75 1241.9,1209.93 1242.35,1216.03 1242.8,1223.9 1243.25,1226.37 1243.7,1215.35 1244.15,1216.96 1244.6,1220.63 \n",
       "  1245.05,1235.8 1245.5,1237.51 1245.95,1228.39 1246.4,1221.39 1246.85,1217.55 1247.3,1214.39 1247.75,1210.57 1248.2,1208.57 1248.65,1206.33 1249.1,1199.3 \n",
       "  1249.55,1196.7 1250,1200.59 1250.45,1194.31 1250.9,1199.3 1251.35,1204.95 1251.8,1196.13 1252.25,1205.32 1252.7,1213.03 1253.15,1216.66 1253.6,1227.39 \n",
       "  1254.05,1214.31 1254.5,1231.91 1254.95,1229.05 1255.4,1225.31 1255.85,1225.21 1256.3,1214.59 1256.75,1210.16 1257.2,1198.39 1257.65,1195.88 1258.1,1194.51 \n",
       "  1258.55,1200.96 1259,1197.03 1259.45,1187.95 1259.9,1187.81 1260.35,1189.62 1260.8,1196.71 1261.25,1196.59 1261.7,1189.99 1262.15,1189.59 1262.6,1190.2 \n",
       "  1263.05,1198.87 1263.5,1194.16 1263.95,1188.06 1264.4,1187.12 1264.85,1193.24 1265.3,1190.17 1265.75,1191.67 1266.2,1198.87 1266.65,1194.28 1267.1,1191.11 \n",
       "  1267.55,1188.78 1268,1185 1268.45,1188.31 1268.9,1189.67 1269.35,1194.78 1269.8,1190.3 1270.25,1184.76 1270.7,1182.16 1271.15,1180.81 1271.6,1176.93 \n",
       "  1272.05,1176.31 1272.5,1178.13 1272.95,1177.49 1273.4,1183.53 1273.85,1173.84 1274.3,1172 1274.75,1171.67 1275.2,1169.11 1275.65,1165.83 1276.1,1167.13 \n",
       "  1276.55,1171.04 1277,1166 1277.45,1164.77 1277.9,1171.81 1278.35,1164.64 1278.8,1170.21 1279.25,1184.17 1279.7,1198.07 1280.15,1196.02 1280.6,1198.35 \n",
       "  1281.05,1195.34 1281.5,1200.95 1281.95,1209.21 1282.4,1199.48 1282.85,1193.09 1283.3,1195.15 1283.75,1215.09 1284.2,1214.25 1284.65,1217.53 1285.1,1211.74 \n",
       "  1285.55,1213.3 1286,1207.97 1286.45,1206.06 1286.9,1195.82 1287.35,1194.08 1287.8,1190.19 1288.25,1187.48 1288.7,1188.99 1289.15,1195.97 1289.6,1192.75 \n",
       "  1290.05,1191.63 1290.5,1190.27 1290.95,1183.26 1291.4,1181.84 1291.85,1181.99 1292.3,1178.38 1292.75,1170.38 1293.2,1170.89 1293.65,1169.29 1294.1,1167.04 \n",
       "  1294.55,1162.37 1295,1164.29 1295.45,1162.9 1295.9,1157.42 1296.35,1153.69 1296.8,1153.36 1297.25,1159.04 1297.7,1153.49 1298.15,1149.74 1298.6,1151.35 \n",
       "  1299.05,1152.82 1299.5,1152.74 1299.95,1149.11 1300.4,1150.31 1300.85,1150.62 1301.3,1146.12 1301.75,1141.73 1302.2,1140.39 1302.65,1144.29 1303.1,1140.85 \n",
       "  1303.55,1136.35 1304,1135.75 1304.45,1134.1 1304.9,1126.83 1305.35,1127.19 1305.8,1138.09 1306.25,1133.89 1306.7,1129 1307.15,1131.79 1307.6,1128.57 \n",
       "  1308.05,1123.03 1308.5,1127.34 1308.95,1142.58 1309.4,1137.34 1309.85,1129.23 1310.3,1140.18 1310.75,1134.81 1311.2,1151.82 1311.65,1154.75 1312.1,1177.22 \n",
       "  1312.55,1180.09 1313,1159.56 1313.45,1160.13 1313.9,1151.34 1314.35,1159.07 1314.8,1171.51 1315.25,1170.15 1315.7,1181.72 1316.14,1189.08 1316.59,1213.2 \n",
       "  1317.04,1202.66 1317.49,1213.1 1317.94,1208.23 1318.39,1208.98 1318.84,1191.94 1319.29,1201.14 1319.74,1209.74 1320.19,1194.21 1320.64,1194.44 1321.09,1214.05 \n",
       "  1321.54,1223.1 1321.99,1215.91 1322.44,1218.31 1322.89,1203.94 1323.34,1196.5 1323.79,1198.79 1324.24,1185.06 1324.69,1183.88 1325.14,1183.77 1325.59,1179.78 \n",
       "  1326.04,1185.13 1326.49,1196.16 1326.94,1198.95 1327.39,1208.48 1327.84,1207.04 1328.29,1210.89 1328.74,1229.27 1329.19,1234.96 1329.64,1237.04 1330.09,1236.78 \n",
       "  1330.54,1236.5 1330.99,1215.81 1331.44,1211.25 1331.89,1207.2 1332.34,1205.14 1332.79,1196.14 1333.24,1196.83 1333.69,1197.2 1334.14,1213.45 1334.59,1214.84 \n",
       "  1335.04,1201.52 1335.49,1210.26 1335.94,1198.21 1336.39,1191.76 1336.84,1183.05 1337.29,1185.77 1337.74,1188.64 1338.19,1194.43 1338.64,1188.96 1339.09,1178.24 \n",
       "  1339.54,1180.82 1339.99,1177.98 1340.44,1180.21 1340.89,1179.77 1341.34,1179.7 1341.79,1183.33 1342.24,1204.64 1342.69,1204.2 1343.14,1207.04 1343.59,1204.83 \n",
       "  1344.04,1198.26 1344.49,1198.05 1344.94,1208.16 1345.39,1209.53 1345.84,1215.64 1346.29,1224.2 1346.74,1219.81 1347.19,1224.03 1347.64,1215.82 1348.09,1225.47 \n",
       "  1348.54,1223.76 1348.99,1205.14 1349.44,1197.34 1349.89,1191.93 1350.34,1198.09 1350.79,1192.8 1351.24,1190.74 1351.69,1185.44 1352.14,1180.76 1352.59,1181.8 \n",
       "  1353.04,1179.12 1353.49,1177.61 1353.94,1177.5 1354.39,1167.72 1354.84,1169.73 1355.29,1174.78 1355.74,1174.42 1356.19,1164.22 1356.64,1168.03 1357.09,1165.36 \n",
       "  1357.54,1165.83 1357.99,1167.32 1358.44,1166.43 1358.89,1169.01 1359.34,1157.5 1359.79,1156.44 1360.24,1158.37 1360.69,1154.18 1361.14,1154.81 1361.59,1150.57 \n",
       "  1362.04,1146.66 1362.49,1146.87 1362.94,1147.25 1363.39,1146.16 1363.84,1153.33 1364.29,1145.45 1364.74,1145.03 1365.19,1142.49 1365.64,1142.41 1366.09,1143.03 \n",
       "  1366.54,1142.66 1366.99,1143.02 1367.44,1141.91 1367.89,1140.61 1368.34,1137.05 1368.79,1134.31 1369.24,1120.55 1369.69,1119.32 1370.14,1119.11 1370.59,1125.4 \n",
       "  1371.04,1125.46 1371.49,1127.85 1371.94,1133.04 1372.39,1136.44 1372.84,1146.35 1373.29,1143.09 1373.74,1135.64 1374.19,1134.47 1374.64,1137.82 1375.09,1143.12 \n",
       "  1375.54,1136.82 1375.99,1139.88 1376.44,1143.56 1376.89,1141.37 1377.34,1129.21 1377.79,1121.31 1378.24,1118.94 1378.69,1116.91 1379.14,1118.25 1379.59,1115.17 \n",
       "  1380.04,1112.93 1380.49,1107.72 1380.94,1108.13 1381.39,1108.28 1381.84,1111.44 1382.29,1107.05 1382.74,1105.77 1383.19,1103.56 1383.64,1100.24 1384.09,1098.68 \n",
       "  1384.54,1100.41 1384.99,1097.74 1385.44,1097.93 1385.89,1097.53 1386.34,1099.15 1386.79,1098.63 1387.24,1089.4 1387.69,1091.91 1388.14,1087.39 1388.59,1088.52 \n",
       "  1389.04,1090.67 1389.49,1089.62 1389.94,1087.78 1390.39,1081.68 1390.84,1083.41 1391.29,1077.2 1391.74,1076.42 1392.19,1084.65 1392.64,1082.97 1393.09,1083.18 \n",
       "  1393.54,1080.24 1393.99,1077.95 1394.44,1074.62 1394.89,1073.34 1395.34,1087.27 1395.79,1079.66 1396.24,1069.56 1396.69,1071.45 1397.14,1068.9 1397.59,1065.99 \n",
       "  1398.04,1061.83 1398.49,1059.59 1398.94,1062.21 1399.39,1061.89 1399.84,1055.83 1400.29,1054.81 1400.74,1055.36 1401.19,1052.43 1401.64,1048.82 1402.09,1049.7 \n",
       "  1402.54,1063.83 1402.99,1068.85 1403.44,1068.7 1403.89,1060.11 1404.34,1055.88 1404.79,1069.83 1405.24,1065.68 1405.69,1054.63 1406.14,1059.45 1406.59,1066.47 \n",
       "  1407.04,1061.13 1407.49,1063.66 1407.94,1077.08 1408.39,1072.4 1408.84,1080.07 1409.29,1085.48 1409.74,1096.23 1410.19,1087.14 1410.64,1084.17 1411.09,1074.15 \n",
       "  1411.54,1077.82 1411.99,1072.75 1412.44,1066.02 1412.89,1063.82 1413.34,1067.48 1413.79,1059.95 1414.24,1056.61 1414.69,1055.38 1415.14,1052.92 1415.59,1053.84 \n",
       "  1416.04,1051.49 1416.49,1052.16 1416.94,1051.36 1417.39,1055.66 1417.84,1059.9 1418.29,1064.68 1418.74,1066.42 1419.19,1064.37 1419.64,1065.09 1420.09,1069.52 \n",
       "  1420.54,1061.61 1420.99,1053.12 1421.44,1050.77 1421.89,1051 1422.34,1043.97 1422.79,1040.7 1423.24,1036.92 1423.69,1033.87 1424.14,1037.15 1424.59,1039.48 \n",
       "  1425.04,1046.54 1425.49,1048.9 1425.94,1048.93 1426.39,1044.03 1426.84,1040.31 1427.29,1049.41 1427.74,1043.82 1428.19,1052.19 1428.64,1057.41 1429.09,1055.94 \n",
       "  1429.54,1047.6 1429.99,1047.84 1430.44,1053.22 1430.89,1062.47 1431.33,1063.27 1431.78,1060.7 1432.23,1057.66 1432.68,1054.4 1433.13,1045.92 1433.58,1064.36 \n",
       "  1434.03,1065.33 1434.48,1072.96 1434.93,1081.36 1435.38,1082.37 1435.83,1085.38 1436.28,1079.98 1436.73,1090.39 1437.18,1089.84 1437.63,1080.42 1438.08,1093.87 \n",
       "  1438.53,1092.03 1438.98,1090.27 1439.43,1086.12 1439.88,1075.84 1440.33,1081.19 1440.78,1083.33 1441.23,1092.12 1441.68,1085.03 1442.13,1075.02 1442.58,1068.52 \n",
       "  1443.03,1060.7 1443.48,1049.29 1443.93,1050.51 1444.38,1049.28 1444.83,1041.59 1445.28,1047.05 1445.73,1061.32 1446.18,1064.42 1446.63,1062.44 1447.08,1067.78 \n",
       "  1447.53,1063.53 1447.98,1068.87 1448.43,1055.87 1448.88,1057.68 1449.33,1046.76 1449.78,1046.45 1450.23,1050.62 1450.68,1053.92 1451.13,1070.21 1451.58,1073.05 \n",
       "  1452.03,1077.58 1452.48,1081.21 1452.93,1100.66 1453.38,1097.06 1453.83,1133.14 1454.28,1134.22 1454.73,1181.32 1455.18,1150.3 1455.63,1180.68 1456.08,1149.64 \n",
       "  1456.53,1146.03 1456.98,1130.77 1457.43,1137.59 1457.88,1139.56 1458.33,1169.14 1458.78,1179.32 1459.23,1178.83 1459.68,1156.08 1460.13,1147.34 1460.58,1158.08 \n",
       "  1461.03,1146.6 1461.48,1127.43 1461.93,1125.48 1462.38,1121.8 1462.83,1130.96 1463.28,1148.97 1463.73,1153.86 1464.18,1134.52 1464.63,1142.11 1465.08,1161.29 \n",
       "  1465.53,1155.82 1465.98,1149.37 1466.43,1139.66 1466.88,1127.76 1467.33,1124.29 1467.78,1130.6 1468.23,1131.12 1468.68,1154.64 1469.13,1176.15 1469.58,1171.28 \n",
       "  1470.03,1155.38 1470.48,1148.12 1470.93,1162.35 1471.38,1157.42 1471.83,1174.71 1472.28,1195.05 1472.73,1179.03 1473.18,1166.95 1473.63,1154.36 1474.08,1158.5 \n",
       "  1474.53,1136.56 1474.98,1135.6 1475.43,1129.12 1475.88,1129.91 1476.33,1118.58 1476.78,1132.86 1477.23,1119.19 1477.68,1127.34 1478.13,1124.05 1478.58,1110 \n",
       "  1479.03,1100.69 1479.48,1115.75 1479.93,1106.84 1480.38,1082.52 1480.83,1082.17 1481.28,1102.61 1481.73,1121.5 1482.18,1110.29 1482.63,1096.7 1483.08,1101.28 \n",
       "  1483.53,1096.52 1483.98,1088.06 1484.43,1115.5 1484.88,1109.16 1485.33,1094.88 1485.78,1102.19 1486.23,1098.51 1486.68,1111.3 1487.13,1123.56 1487.58,1123.91 \n",
       "  1488.03,1137.53 1488.48,1140.84 1488.93,1156.53 1489.38,1158.18 1489.83,1137.79 1490.28,1135.28 1490.73,1105.07 1491.18,1105.6 1491.63,1106.63 1492.08,1098.89 \n",
       "  1492.53,1098.32 1492.98,1096.67 1493.43,1112.56 1493.88,1100.18 1494.33,1111.14 1494.78,1117.82 1495.23,1126.01 1495.68,1123.62 1496.13,1121.43 1496.58,1129.87 \n",
       "  1497.03,1108.48 1497.48,1106.99 1497.93,1100.81 1498.38,1094.17 1498.83,1093.96 1499.28,1103.37 1499.73,1095.5 1500.18,1097.88 1500.63,1086.95 1501.08,1086.78 \n",
       "  1501.53,1084.6 1501.98,1086.46 1502.43,1084.7 1502.88,1077.92 1503.33,1077.65 1503.78,1076.24 1504.23,1079.01 1504.68,1076.94 1505.13,1068.26 1505.58,1064.4 \n",
       "  1506.03,1063.92 1506.48,1063.52 1506.93,1064.45 1507.38,1057.3 1507.83,1062.14 1508.28,1063.39 1508.73,1064.98 1509.18,1065.63 1509.63,1058.53 1510.08,1057.35 \n",
       "  1510.53,1046.45 1510.98,1046.44 1511.43,1044.81 1511.88,1043.05 1512.33,1042.3 1512.78,1047.2 1513.23,1042.25 1513.68,1042.71 1514.13,1047.48 1514.58,1038.18 \n",
       "  1515.03,1036.27 1515.48,1035.74 1515.93,1038.5 1516.38,1034.93 1516.83,1033.88 1517.28,1032.46 1517.73,1029.67 1518.18,1033.46 1518.63,1028.53 1519.08,1031.24 \n",
       "  1519.53,1034.82 1519.98,1047.01 1520.43,1041.43 1520.88,1033.42 1521.33,1030.52 1521.78,1029.83 1522.23,1015.37 1522.68,1016.44 1523.13,1011.4 1523.58,1010.42 \n",
       "  1524.03,1007.16 1524.48,1009.61 1524.93,1011.19 1525.38,1017.28 1525.83,1014.67 1526.28,1002.97 1526.73,1005.4 1527.18,1009.69 1527.63,1010.94 1528.08,1007.84 \n",
       "  1528.53,1001.51 1528.98,1005.06 1529.43,1013.66 1529.88,1014.47 1530.33,1023.66 1530.78,1037.62 1531.23,1031.73 1531.68,1020.39 1532.13,1030.83 1532.58,1031.25 \n",
       "  1533.03,1018.48 1533.48,1021.91 1533.93,1026.8 1534.38,1025.86 1534.83,1032.81 1535.28,1029.72 1535.73,1018.57 1536.18,1012.82 1536.63,1010.97 1537.08,1014.22 \n",
       "  1537.53,1009.62 1537.98,1011.54 1538.43,1018.04 1538.88,1031.72 1539.33,1031.5 1539.78,1035.08 1540.23,1040.27 1540.68,1038.15 1541.13,1041.87 1541.58,1050.03 \n",
       "  1542.03,1054.6 1542.48,1058.18 1542.93,1070.08 1543.38,1075.69 1543.83,1063.44 1544.28,1063.48 1544.73,1061.85 1545.18,1060.6 1545.63,1061.75 1546.08,1054.31 \n",
       "  1546.52,1065.24 1546.97,1067.18 1547.42,1086.19 1547.87,1086.47 1548.32,1081.78 1548.77,1063.4 1549.22,1064.1 1549.67,1057.64 1550.12,1067.46 1550.57,1058.66 \n",
       "  1551.02,1064.17 1551.47,1055.55 1551.92,1047.59 1552.37,1046.14 1552.82,1038.19 1553.27,1039.76 1553.72,1057.52 1554.17,1052.12 1554.62,1064.64 1555.07,1060.66 \n",
       "  1555.52,1054.15 1555.97,1054.99 1556.42,1035.61 1556.87,1033.55 1557.32,1028.75 1557.77,1032.74 1558.22,1040.22 1558.67,1041.25 1559.12,1048.2 1559.57,1048.27 \n",
       "  1560.02,1052.17 1560.47,1039.12 1560.92,1040.81 1561.37,1034.85 1561.82,1029.18 1562.27,1027.07 1562.72,1035.6 1563.17,1042.71 1563.62,1050.04 1564.07,1050.15 \n",
       "  1564.52,1036.98 1564.97,1021.4 1565.42,1021.8 1565.87,1025.38 1566.32,1027.9 1566.77,1033.73 1567.22,1018.33 1567.67,1016.27 1568.12,1012.19 1568.57,1011.57 \n",
       "  1569.02,1011.38 1569.47,1009.4 1569.92,1010.31 1570.37,1010.59 1570.82,1009.58 1571.27,1003.4 1571.72,1002.19 1572.17,1002.02 1572.62,1005.06 1573.07,1004.81 \n",
       "  1573.52,1011.74 1573.97,1006.24 1574.42,1006.65 1574.87,1007.32 1575.32,1006.87 1575.77,1012.89 1576.22,1009 1576.67,1009.96 1577.12,1010.68 1577.57,993.602 \n",
       "  1578.02,990.111 1578.47,995.402 1578.92,992.735 1579.37,990.93 1579.82,976.78 1580.27,973.56 1580.72,976.106 1581.17,977.123 1581.62,976.19 1582.07,976.617 \n",
       "  1582.52,976.966 1582.97,978.664 1583.42,987.896 1583.87,992.856 1584.32,984.568 1584.77,988.318 1585.22,985.856 1585.67,985.218 1586.12,982.191 1586.57,975.979 \n",
       "  1587.02,976.262 1587.47,979.29 1587.92,987.969 1588.37,993.181 1588.82,993.169 1589.27,995.63 1589.72,988.673 1590.17,980.301 1590.62,976.256 1591.07,978.423 \n",
       "  1591.52,992.946 1591.97,992.627 1592.42,1004.99 1592.87,1007.07 1593.32,1005.13 1593.77,1006.32 1594.22,1005.59 1594.67,996.329 1595.12,1004.5 1595.57,1002.55 \n",
       "  1596.02,995.919 1596.47,1016.23 1596.92,1026.45 1597.37,1025.06 1597.82,1024.95 1598.27,1028.2 1598.72,1039.77 1599.17,1041.01 1599.62,1037.08 1600.07,1020.87 \n",
       "  1600.52,1020.28 1600.97,1018.33 1601.42,1007.43 1601.87,1009.15 1602.32,1013.67 1602.77,1006.94 1603.22,1003.33 1603.67,1003.1 1604.12,1007.24 1604.57,1008.69 \n",
       "  1605.02,1007.26 1605.47,1004.54 1605.92,1002.06 1606.37,1001.77 1606.82,996.178 1607.27,995.793 1607.72,1001.23 1608.17,1004.78 1608.62,994.595 1609.07,984.773 \n",
       "  1609.52,991.381 1609.97,986.651 1610.42,994.788 1610.87,996.888 1611.32,1001 1611.77,1002.04 1612.22,1011.47 1612.67,997.171 1613.12,975.365 1613.57,977.201 \n",
       "  1614.02,972.928 1614.47,975.684 1614.92,978.537 1615.37,976.208 1615.82,969.527 1616.27,969.569 1616.72,970.4 1617.17,969.401 1617.62,969.22 1618.07,964.213 \n",
       "  1618.52,961.185 1618.97,957.225 1619.42,955.871 1619.87,955.865 1620.32,950.966 1620.77,952.639 1621.22,948.029 1621.67,951.568 1622.12,953.885 1622.57,944.821 \n",
       "  1623.02,955.329 1623.47,945.952 1623.92,945.453 1624.37,947.096 1624.82,941.956 1625.27,942.509 1625.72,941.053 1626.17,940.511 1626.62,939.879 1627.07,940.836 \n",
       "  1627.52,934.125 1627.97,945.555 1628.42,951.291 1628.87,943.358 1629.32,960.06 1629.77,954.589 1630.22,943.123 1630.67,943.912 1631.12,941.793 1631.57,937.58 \n",
       "  1632.02,928.799 1632.47,927.794 1632.92,926.108 1633.37,921.962 1633.82,918.91 1634.27,921.161 1634.72,919.933 1635.17,914.703 1635.62,916.214 1636.07,921.39 \n",
       "  1636.52,923.653 1636.97,917.412 1637.42,925.121 1637.87,918.507 1638.32,921.637 1638.77,914.378 1639.22,914.914 1639.67,911.11 1640.12,915.329 1640.57,910.466 \n",
       "  1641.02,920.433 1641.47,916.647 1641.92,920.692 1642.37,914.763 1642.82,911.453 1643.27,899.945 1643.72,896.593 1644.17,899.277 1644.62,921.233 1645.07,907.866 \n",
       "  1645.52,921.432 1645.97,927.703 1646.42,919.494 1646.87,915.13 1647.32,905.332 1647.77,905.242 1648.22,901.492 1648.67,903.189 1649.12,896.424 1649.57,894.035 \n",
       "  1650.02,902.93 1650.47,894.005 1650.92,883.893 1651.37,881.997 1651.82,876.942 1652.27,872.885 1652.72,876.496 1653.17,873.24 1653.62,872.247 1654.07,862.99 \n",
       "  1654.52,857.61 1654.97,860.992 1655.42,853.011 1655.87,852.717 1656.32,850.797 1656.77,861.492 1657.22,864.471 1657.67,860.884 1658.12,858.513 1658.57,862.984 \n",
       "  1659.02,861.185 1659.47,873.475 1659.92,868.046 1660.37,875.076 1660.82,886.969 1661.26,877.351 1661.71,865.675 1662.16,869.304 1662.61,874.54 1663.06,885.248 \n",
       "  1663.51,871.182 1663.96,874.119 1664.41,868.624 1664.86,861.365 1665.31,877.742 1665.76,899.41 1666.21,899.319 1666.66,906.09 1667.11,897.213 1667.56,888.684 \n",
       "  1668.01,885.868 1668.46,886.674 1668.91,883.96 1669.36,885.651 1669.81,881.335 1670.26,871.976 1670.71,866.746 1671.16,861.528 1671.61,858.007 1672.06,847.264 \n",
       "  1672.51,844.658 1672.96,842.786 1673.41,845.669 1673.86,843.779 1674.31,840.709 1674.76,835.738 1675.21,834.402 1675.66,834.745 1676.11,841.275 1676.56,840.011 \n",
       "  1677.01,838.199 1677.46,839.644 1677.91,839.74 1678.36,838.741 1678.81,828.702 1679.26,827.552 1679.71,828.889 1680.16,835.202 1680.61,836.376 1681.06,834.721 \n",
       "  1681.51,839.373 1681.96,838.001 1682.41,836.057 1682.86,844.645 1683.31,855.714 1683.76,859.307 1684.21,864.387 1684.66,862.07 1685.11,865.458 1685.56,856.496 \n",
       "  1686.01,853.866 1686.46,860.938 1686.91,874.354 1687.36,872.398 1687.81,869.154 1688.26,870.923 1688.71,868.052 1689.16,860.493 1689.61,857.989 1690.06,858.344 \n",
       "  1690.51,847.354 1690.96,843.785 1691.41,838.868 1691.86,841.377 1692.31,837.369 1692.76,833.74 1693.21,828.919 1693.66,815.918 1694.11,818.867 1694.56,825.488 \n",
       "  1695.01,830.809 1695.46,833.565 1695.91,835.954 1696.36,835.07 1696.81,840.041 1697.26,842.96 1697.71,837.248 1698.16,836.978 1698.61,845.139 1699.06,840.107 \n",
       "  1699.51,846.686 1699.96,858.26 1700.41,855.918 1700.86,837.736 1701.31,832.458 1701.76,826.854 1702.21,832.078 1702.66,820.234 1703.11,810.273 1703.56,805.169 \n",
       "  1704.01,804.398 1704.46,800.914 1704.91,803.797 1705.36,798.663 1705.81,796.61 1706.26,794.498 1706.71,788.876 1707.16,794.311 1707.61,797.044 1708.06,794.215 \n",
       "  1708.51,792.849 1708.96,793.252 1709.41,789.797 1709.86,803.261 1710.31,790.267 1710.76,790.537 1711.21,793.631 1711.66,782.569 1712.11,777.808 1712.56,772.897 \n",
       "  1713.01,777.73 1713.46,778.452 1713.91,782.105 1714.36,773.866 1714.81,768.377 1715.26,770.459 1715.71,770.092 1716.16,766.956 1716.61,768.244 1717.06,772.126 \n",
       "  1717.51,776.309 1717.96,776.508 1718.41,779.192 1718.86,768.449 1719.31,767.612 1719.76,770.525 1720.21,783.195 1720.66,785.44 1721.11,785.741 1721.56,780.33 \n",
       "  1722.01,783.345 1722.46,766.77 1722.91,765.933 1723.36,758.392 1723.81,755.322 1724.26,751.145 1724.71,746.324 1725.16,747.227 1725.61,746.541 1726.06,744.585 \n",
       "  1726.51,752.198 1726.96,752.74 1727.41,754.907 1727.86,749.376 1728.31,748.714 1728.76,748.075 1729.21,747.353 1729.66,759.33 1730.11,747.799 1730.56,743.303 \n",
       "  1731.01,745.566 1731.46,747.48 1731.91,745.277 1732.36,746.733 1732.81,755.96 1733.26,777.585 1733.71,782.418 1734.16,778.115 1734.61,785.927 1735.06,777.675 \n",
       "  1735.51,782.611 1735.96,805.999 1736.41,800.246 1736.86,800.48 1737.31,786.625 1737.76,774.474 1738.21,771.916 1738.66,760.077 1739.11,763.267 1739.56,755.057 \n",
       "  1740.01,748.695 1740.46,748.774 1740.91,754.588 1741.36,747.468 1741.81,750.05 1742.26,743.501 1742.71,744.627 1743.16,745.162 1743.61,739.011 1744.06,737.471 \n",
       "  1744.51,742.556 1744.96,727.618 1745.41,727.54 1745.86,724.928 1746.31,725.325 1746.76,725.084 1747.21,732.373 1747.66,730.621 1748.11,745.06 1748.56,746.42 \n",
       "  1749.01,736.724 1749.46,728.701 1749.91,736.02 1750.36,727.329 1750.81,731.458 1751.26,736.387 1751.71,731.807 1752.16,740.823 1752.61,742.051 1753.06,736.58 \n",
       "  1753.51,727.672 1753.96,720.059 1754.41,717.157 1754.86,717.868 1755.31,733.715 1755.76,744.813 1756.21,740.504 1756.66,728.683 1757.11,753.739 1757.56,761.244 \n",
       "  1758.01,753.258 1758.46,744.494 1758.91,735.033 1759.36,732.589 1759.81,728.509 1760.26,724.446 1760.71,722.851 1761.16,725.409 1761.61,733.065 1762.06,729.586 \n",
       "  1762.51,725.782 1762.96,721.395 1763.41,720.847 1763.86,724.368 1764.31,721.816 1764.76,730.94 1765.21,725.608 1765.66,726.884 1766.11,724.019 1766.56,713.956 \n",
       "  1767.01,713.727 1767.46,719.126 1767.91,729.339 1768.36,726.047 1768.81,721.1 1769.26,728.045 1769.71,719.108 1770.16,716.02 1770.61,710.79 1771.06,704.915 \n",
       "  1771.51,705.62 1771.96,699.763 1772.41,697.633 1772.86,698.114 1773.31,698.12 1773.76,694.834 1774.21,686.474 1774.66,682.526 1775.11,681.701 1775.56,682.285 \n",
       "  1776.01,685.908 1776.45,693.462 1776.9,691.03 1777.35,689.64 1777.8,686.282 1778.25,677.392 1778.7,675.616 1779.15,674.13 1779.6,674.702 1780.05,682.345 \n",
       "  1780.5,675.954 1780.95,677.958 1781.4,675.412 1781.85,674.509 1782.3,668.027 1782.75,666.33 1783.2,661.31 1783.65,666.023 1784.1,672.818 1784.55,671.873 \n",
       "  1785,672.421 1785.45,669.953 1785.9,665.439 1786.35,666.047 1786.8,664 1787.25,674.96 1787.7,665.698 1788.15,666.468 1788.6,660.648 1789.05,658.993 \n",
       "  1789.5,661.081 1789.95,664.903 1790.4,663.832 1790.85,667.937 1791.3,672.794 1791.75,694.064 1792.2,695.978 1792.65,690.128 1793.1,701.593 1793.55,698.138 \n",
       "  1794,705.77 1794.45,691.879 1794.9,690.495 1795.35,690.573 1795.8,683.465 1796.25,676.567 1796.7,676.874 1797.15,668.226 1797.6,663.573 1798.05,659.745 \n",
       "  1798.5,656.266 1798.95,656.784 1799.4,652.661 1799.85,651.487 1800.3,653.365 1800.75,652.745 1801.2,649.363 1801.65,649.664 1802.1,650.807 1802.55,653.016 \n",
       "  1803,647.497 1803.45,651.373 1803.9,658.788 1804.35,656.116 1804.8,653.775 1805.25,660.215 1805.7,662.688 1806.15,652.234 1806.6,649.965 1807.05,644.145 \n",
       "  1807.5,646.348 1807.95,656.158 1808.4,661.84 1808.85,653.426 1809.3,672.144 1809.75,664.476 1810.2,664.927 1810.65,669.002 1811.1,684.416 1811.55,683.038 \n",
       "  1812,669.863 1812.45,674.467 1812.9,690.603 1813.35,671.265 1813.8,696.574 1814.25,708.599 1814.7,725.776 1815.15,727.54 1815.6,738.512 1816.05,733.119 \n",
       "  1816.5,720.654 1816.95,706.354 1817.4,687.148 1817.85,693.329 1818.3,680.949 1818.75,674.1 1819.2,673.396 1819.65,661.87 1820.1,664.157 1820.55,651.09 \n",
       "  1821,640.853 1821.45,642.297 1821.9,642.61 1822.35,637.771 1822.8,632.336 1823.25,632.547 1823.7,628.821 1824.15,629.092 1824.6,628.213 1825.05,627.894 \n",
       "  1825.5,628.767 1825.95,626.847 1826.4,621.021 1826.85,624.205 1827.3,617.229 1827.75,612.649 1828.2,609.591 1828.65,611.271 1829.1,606.805 1829.55,612.222 \n",
       "  1830,619.45 1830.45,611.216 1830.9,607.491 1831.35,608.008 1831.8,606.769 1832.25,617.777 1832.7,616.386 1833.15,635.008 1833.6,633.54 1834.05,648.785 \n",
       "  1834.5,659.811 1834.95,667.6 1835.4,640.389 1835.85,615.074 1836.3,610.115 1836.75,602.772 1837.2,601.707 1837.65,601.075 1838.1,599.071 1838.55,598.553 \n",
       "  1839,602.393 1839.45,616.362 1839.9,619.047 1840.35,638.481 1840.8,648.472 1841.25,633.389 1841.7,613.624 1842.15,624.048 1842.6,632.806 1843.05,640.738 \n",
       "  1843.5,643.537 1843.95,656.477 1844.4,639.318 1844.85,639.661 1845.3,631.168 1845.75,613.907 1846.2,621.466 1846.65,623.007 1847.1,632.348 1847.55,650.338 \n",
       "  1848,640.166 1848.45,653.817 1848.9,638.144 1849.35,622.405 1849.8,625.661 1850.25,614.328 1850.7,619.631 1851.15,622.092 1851.6,610.554 1852.05,609.694 \n",
       "  1852.5,598.379 1852.95,593.75 1853.4,592.131 1853.85,592.077 1854.3,593.04 1854.75,585.709 1855.2,586.149 1855.65,582.417 1856.1,583.254 1856.55,585.077 \n",
       "  1857,588.478 1857.45,582.14 1857.9,586.979 1858.35,592.504 1858.8,591.078 1859.25,608.327 1859.7,605.986 1860.15,624.915 1860.6,627.076 1861.05,612.956 \n",
       "  1861.5,618.499 1861.95,603.308 1862.4,607.972 1862.85,592.414 1863.3,597.452 1863.75,586.817 1864.2,589.254 1864.65,595.778 1865.1,615.737 1865.55,618.24 \n",
       "  1866,613.227 1866.45,601.225 1866.9,611.108 1867.35,615.682 1867.8,612.769 1868.25,603.187 1868.7,605.505 1869.15,602.887 1869.6,596.735 1870.05,590.404 \n",
       "  1870.5,596.272 1870.95,592.938 1871.4,588.038 1871.85,590.073 1872.3,601.189 1872.75,589.928 1873.2,592.667 1873.65,587.286 1874.1,583.922 1874.55,580.016 \n",
       "  1875,586.6 1875.45,584.108 1875.9,588.303 1876.35,599.221 1876.8,585.468 1877.25,584.024 1877.7,596.886 1878.15,603.687 1878.6,596.362 1879.05,582.26 \n",
       "  1879.5,589.898 1879.95,591.854 1880.4,591.367 1880.85,578.342 1881.3,578.806 1881.75,573.901 1882.2,574.9 1882.65,576.248 1883.1,573.353 1883.55,576.374 \n",
       "  1884,588.538 1884.45,578.222 1884.9,579.191 1885.35,586.426 1885.8,585.36 1886.25,585.222 1886.7,584.192 1887.15,594.581 1887.6,596.236 1888.05,604.223 \n",
       "  1888.5,602.989 1888.95,587.87 1889.4,587.154 1889.85,596.838 1890.3,601.099 1890.75,593.191 1891.2,590.675 1891.64,578.95 1892.09,584.102 1892.54,577.686 \n",
       "  1892.99,577.391 1893.44,585.631 1893.89,590.049 1894.34,592.45 1894.79,614.984 1895.24,611.487 1895.69,604.849 1896.14,607.304 1896.59,609.971 1897.04,605.071 \n",
       "  1897.49,621.882 1897.94,620.07 1898.39,603.645 1898.84,591.794 1899.29,586.203 1899.74,585.276 1900.19,575.495 1900.64,575.465 1901.09,575.044 1901.54,580.666 \n",
       "  1901.99,583.103 1902.44,590.277 1902.89,604.752 1903.34,609.23 1903.79,594.816 1904.24,587.545 1904.69,584.644 1905.14,588.923 1905.59,593.022 1906.04,594.472 \n",
       "  1906.49,591.174 1906.94,602.092 1907.39,603.073 1907.84,590.025 1908.29,603.001 1908.74,599.937 1909.19,601.767 1909.64,597.825 1910.09,590.428 1910.54,594.22 \n",
       "  1910.99,605.703 1911.44,631.301 1911.89,672.788 1912.34,713.155 1912.79,728.4 1913.24,686.258 1913.69,660.203 1914.14,659.799 1914.59,669.814 1915.04,702.057 \n",
       "  1915.49,681.431 1915.94,683.254 1916.39,695.568 1916.84,668.996 1917.29,686.968 1917.74,681.033 1918.19,674.046 1918.64,678.836 1919.09,665.042 1919.54,654.623 \n",
       "  1919.99,658.036 1920.44,675.382 1920.89,675.051 1921.34,685.975 1921.79,691.048 1922.24,690.374 1922.69,694.437 1923.14,722.893 1923.59,719.74 1924.04,700.173 \n",
       "  1924.49,698.897 1924.94,679.3 1925.39,659.86 1925.84,662.442 1926.29,655.418 1926.74,643.549 1927.19,642.393 1927.64,642.784 1928.09,649.61 1928.54,653.937 \n",
       "  1928.99,637.145 1929.44,632.715 1929.89,631.873 1930.34,631.668 1930.79,638.644 1931.24,616.79 1931.69,606.624 1932.14,610.434 1932.59,611.8 1933.04,598.637 \n",
       "  1933.49,597.644 1933.94,603.206 1934.39,590.043 1934.84,585.246 1935.29,590.614 1935.74,592.468 1936.19,593.696 1936.64,605.354 1937.09,601.611 1937.54,608.303 \n",
       "  1937.99,624.945 1938.44,638.523 1938.89,619.51 1939.34,620.521 1939.79,601.436 1940.24,601.966 1940.69,597.999 1941.14,601.003 1941.59,598.066 1942.04,598.354 \n",
       "  1942.49,597.073 1942.94,601.9 1943.39,590.596 1943.84,603.236 1944.29,620.973 1944.74,597.392 1945.19,607.641 1945.64,614.996 1946.09,622.965 1946.54,623.362 \n",
       "  1946.99,643.766 1947.44,636.435 1947.89,623.826 1948.34,607.419 1948.79,627.25 1949.24,645.631 1949.69,637.879 1950.14,626.414 1950.59,613.582 1951.04,617.043 \n",
       "  1951.49,615.375 1951.94,605.264 1952.39,615.345 1952.84,628.821 1953.29,643.519 1953.74,644.765 1954.19,660.648 1954.64,684.332 1955.09,696.279 1955.54,695.249 \n",
       "  1955.99,687.72 1956.44,717.007 1956.89,701.96 1957.34,718.825 1957.79,726.336 1958.24,735.196 1958.69,725.602 1959.14,708.22 1959.59,724.765 1960.04,710.483 \n",
       "  1960.49,720.895 1960.94,715.611 1961.39,689.766 1961.84,690.778 1962.29,707.744 1962.74,704.976 1963.19,704.133 1963.64,728.099 1964.09,743.02 1964.54,737.82 \n",
       "  1964.99,743.899 1965.44,752.084 1965.89,729.189 1966.34,712.722 1966.79,695.406 1967.24,701.924 1967.69,697.29 1968.14,686.492 1968.59,701.431 1969.04,692.818 \n",
       "  1969.49,678.927 1969.94,683.633 1970.39,689.676 1970.84,665.896 1971.29,660.479 1971.74,655.418 1972.19,654.154 1972.64,653.69 1973.09,662.983 1973.54,657.247 \n",
       "  1973.99,654.996 1974.44,640.214 1974.89,642.622 1975.34,643.242 1975.79,635.622 1976.24,627.04 1976.69,622.995 1977.14,622.538 1977.59,622.592 1978.04,632.264 \n",
       "  1978.49,629.008 1978.94,630.296 1979.39,616.742 1979.84,613.431 1980.29,617.735 1980.74,607.762 1981.19,614.196 1981.64,624.391 1982.09,613.889 1982.54,624.403 \n",
       "  1982.99,621.581 1983.44,625.499 1983.89,612.137 1984.34,601.924 1984.79,601.797 1985.24,604.367 1985.69,594.003 1986.14,590.711 1986.59,590.368 1987.04,596.748 \n",
       "  1987.49,598.023 1987.94,597.741 1988.39,596.242 1988.84,597.085 1989.29,608.586 1989.74,611.385 1990.19,605.36 1990.64,615.52 1991.09,619.944 1991.54,623.061 \n",
       "  1991.99,617.175 1992.44,614.118 1992.89,601.683 1993.34,611.385 1993.79,614.196 1994.24,623.808 1994.69,612.667 1995.14,625.102 1995.59,625.204 1996.04,626.606 \n",
       "  1996.49,620.377 1996.94,620.124 1997.39,604.307 1997.84,596.778 1998.29,597.608 1998.74,591.547 1999.19,595.273 1999.64,593.004 2000.09,589.176 2000.54,591.126 \n",
       "  2000.99,585.499 2001.44,583.976 2001.89,582.206 2002.34,585.866 2002.79,596.591 2003.24,605.679 2003.69,605.107 2004.14,611.872 2004.59,604.746 2005.04,606.323 \n",
       "  2005.49,600.539 2005.94,597.795 2006.39,595.959 2006.83,589.332 2007.28,632.884 2007.73,647.798 2008.18,626.119 2008.63,607.774 2009.08,592.023 2009.53,594.605 \n",
       "  2009.98,600.997 2010.43,591.373 2010.88,587.431 2011.33,572.534 2011.78,567.852 2012.23,559.239 2012.68,556.789 2013.13,552.426 2013.58,554.286 2014.03,553.232 \n",
       "  2014.48,551.842 2014.93,547.743 2015.38,551.619 2015.83,547.262 2016.28,550.115 2016.73,549.609 2017.18,551.872 2017.63,550.199 2018.08,547.599 2018.53,549.531 \n",
       "  2018.98,557.433 2019.43,553.401 2019.88,550.223 2020.33,541.213 2020.78,542.128 2021.23,541.785 2021.68,544.698 2022.13,541.225 2022.58,539.817 2023.03,539.72 \n",
       "  2023.48,544.776 2023.93,542.333 2024.38,540.924 2024.83,542.525 2025.28,538.775 2025.73,540.412 2026.18,547.515 2026.63,546.425 2027.08,549.38 2027.53,543.807 \n",
       "  2027.98,547.352 2028.43,548.694 2028.88,544.987 2029.33,542.507 2029.78,540.364 2030.23,541.815 2030.68,550.048 2031.13,579.071 2031.58,561.249 2032.03,574.857 \n",
       "  2032.48,576.362 2032.93,563.651 2033.38,565.149 2033.83,563.976 2034.28,564.794 2034.73,548.929 2035.18,547.515 2035.63,556.392 2036.08,563.916 2036.53,554.4 \n",
       "  2036.98,550.157 2037.43,557.614 2037.88,552.907 2038.33,553.485 2038.78,558.433 2039.23,556.585 2039.68,552.992 2040.13,555.279 2040.58,554.701 2041.03,568.953 \n",
       "  2041.48,573.413 2041.93,567.743 2042.38,571.794 2042.83,568.568 2043.28,567.063 2043.73,566.04 2044.18,567.894 2044.63,562.435 2045.08,561.701 2045.53,569.374 \n",
       "  2045.98,565.107 2046.43,572.227 2046.88,573.702 2047.33,574.364 2047.78,585.95 2048.23,592.348 2048.68,601.382 2049.13,591.27 2049.58,573.618 2050.03,572.631 \n",
       "  2050.48,551.005 2050.93,553.882 2051.38,552.119 2051.83,550.524 2052.28,544.963 2052.73,544.313 2053.18,539.353 2053.63,539.606 2054.08,530.5 2054.53,532.311 \n",
       "  2054.98,527.665 2055.43,525.294 2055.88,530.981 2056.33,528.447 2056.78,531.336 2057.23,536.783 2057.68,531.047 2058.13,527.069 2058.58,524.987 2059.03,506.684 \n",
       "  2059.48,501.508 2059.93,496.031 2060.38,493.328 2060.83,490.301 2061.28,499.076 2061.73,491.228 2062.18,495.784 2062.63,491.414 2063.08,488.983 2063.53,493.563 \n",
       "  2063.98,495.176 2064.43,491.577 2064.88,489.169 2065.33,501.646 2065.78,500.376 2066.23,500.4 2066.68,494.363 2067.13,490.403 2067.58,488.622 2068.03,487.147 \n",
       "  2068.48,489.476 2068.93,490.15 2069.38,488.622 2069.83,487.659 2070.28,489.825 2070.73,489.825 2071.18,488.164 2071.63,489.332 2072.08,490.644 2072.53,490.584 \n",
       "  2072.98,477.945 2073.43,472.076 2073.88,471.842 2074.33,479.672 2074.78,486.888 2075.23,479.925 2075.68,485.281 2076.13,478.149 2076.58,474.694 2077.03,473.737 \n",
       "  2077.48,477.541 2077.93,473.238 2078.38,463.867 2078.83,458.179 2079.28,455.531 2079.73,449.837 2080.18,441.375 2080.63,445.365 2081.08,438.203 2081.53,434.471 \n",
       "  2081.98,430.626 2082.43,437.71 2082.88,431.992 2083.33,431.48 2083.78,423.024 2084.23,414.225 2084.68,422.548 2085.13,425.973 2085.58,428.675 2086.03,429.235 \n",
       "  2086.48,433.039 2086.93,427.604 2087.38,428.182 2087.83,429.994 2088.28,428.916 2088.73,418.462 2089.18,420.869 2089.63,424.161 2090.08,423.511 2090.53,445.371 \n",
       "  2090.98,443.584 2091.43,440.906 2091.88,453.731 2092.33,447.303 2092.78,437.222 2093.23,434.351 2093.68,432.238 2094.13,433.731 2094.58,438.293 2095.03,431.173 \n",
       "  2095.48,438.877 2095.93,437.192 2096.38,436.849 2096.83,438.799 2097.28,439.864 2097.73,445.985 2098.18,451.619 2098.63,445.654 2099.08,443.09 2099.53,445.558 \n",
       "  2099.98,438.305 2100.43,428.922 2100.88,422.193 2101.33,417.697 2101.78,417.264 2102.23,414.869 2102.68,417.986 2103.13,416.451 2103.58,419.19 2104.03,417.21 \n",
       "  2104.48,415.657 2104.93,411.101 2105.38,410.114 2105.83,412.997 2106.28,414.17 2106.73,415.615 2107.18,414.688 2107.63,408.326 2108.08,421.327 2108.53,438.336 \n",
       "  2108.98,428.296 2109.43,418.763 2109.88,412.846 2110.33,410.216 2110.78,405.323 2111.23,402.338 2111.68,404.041 2112.13,401.658 2112.58,401.646 2113.03,392.238 \n",
       "  2113.48,388.296 2113.93,391.853 2114.38,391.787 2114.83,390.439 2115.28,389.163 2115.73,395.488 2116.18,390.511 2116.63,384.733 2117.08,396.536 2117.53,392.262 \n",
       "  2117.98,385.455 2118.43,380.574 2118.88,387.405 2119.33,388.555 2119.78,390.21 2120.23,384.992 2120.68,389.193 2121.13,393.791 2121.57,385.558 2122.02,393.49 \n",
       "  2122.47,392.172 2122.92,392.539 2123.37,396.957 2123.82,402.927 2124.27,396.313 2124.72,394.604 2125.17,389.548 2125.62,383.987 2126.07,381.477 2126.52,375.254 \n",
       "  2126.97,377.432 2127.42,372.635 2127.87,365.587 2128.32,370.499 2128.77,367.706 2129.22,364.191 2129.67,362.933 2130.12,361.254 2130.57,369.463 2131.02,365.359 \n",
       "  2131.47,364.661 2131.92,362.687 2132.37,365.305 2132.82,364.793 2133.27,364.637 2133.72,363.908 2134.17,371.733 2134.62,371.715 2135.07,386.364 2135.52,377.986 \n",
       "  2135.97,369.74 2136.42,369.759 2136.87,373.177 2137.32,394.429 2137.77,395.717 2138.22,390.752 2138.67,384.053 2139.12,382.229 2139.57,384.149 2140.02,382.566 \n",
       "  2140.47,391.841 2140.92,383.343 2141.37,373.358 2141.82,366.274 2142.27,368.723 2142.72,372.647 2143.17,370.102 2143.62,373.598 2144.07,366.213 2144.52,355.729 \n",
       "  2144.97,354.555 2145.42,354.152 2145.87,353.484 2146.32,349.367 2146.77,347.092 2147.22,346.761 2147.67,346.568 2148.12,352.527 2148.57,351.245 2149.02,350.252 \n",
       "  2149.47,348.892 2149.92,348.826 2150.37,344.883 2150.82,338.118 2151.27,332.617 2151.72,330.727 2152.17,326.285 2152.62,322.325 2153.07,319.948 2153.52,320.79 \n",
       "  2153.97,320.411 2154.42,319.051 2154.87,317.378 2155.32,317.432 2155.77,316.469 2156.22,313.038 2156.67,318.744 2157.12,310.215 2157.57,303.884 2158.02,309.554 \n",
       "  2158.47,310.841 2158.92,314.717 2159.37,308.59 2159.82,304.082 2160.27,305.142 2160.72,300.796 2161.17,303.053 2161.62,301.567 2162.07,298.232 2162.52,295.44 \n",
       "  2162.97,297.486 2163.42,300.321 2163.87,302.62 2164.32,304.817 2164.77,304.082 2165.22,309.078 2165.67,306.971 2166.12,300.959 2166.57,303.035 2167.02,297.209 \n",
       "  2167.47,290.504 2167.92,290.438 2168.37,289.09 2168.82,287.116 2169.27,273.947 2169.72,270.269 2170.17,263.547 2170.62,256.27 2171.07,266.749 2171.52,274.898 \n",
       "  2171.97,273.61 2172.42,262.879 2172.87,259.279 2173.32,253.538 2173.77,250.01 2174.22,251.046 2174.67,254.2 2175.12,238.978 2175.57,234.892 2176.02,237.618 \n",
       "  2176.47,240.724 2176.92,240.001 2177.37,243.089 2177.82,241.277 2178.27,238.87 2178.72,237.034 2179.17,240.296 2179.62,231.798 2180.07,218.882 2180.52,211.647 \n",
       "  2180.97,204.822 2181.42,199.718 2181.87,203.089 2182.32,198.623 2182.77,188.265 2183.22,170.943 2183.67,179.351 2184.12,168.873 2184.57,168.752 2185.02,164.804 \n",
       "  2185.47,149.221 2185.92,142.98 2186.37,142.487 2186.82,141.74 2187.27,129.853 2187.72,150.612 2188.17,150.81 2188.62,160.416 2189.07,164.948 2189.52,205.791 \n",
       "  2189.97,281.795 2190.42,235.951 2190.87,239.526 2191.32,289.62 2191.77,268.572 2192.22,262.842 2192.67,259.869 2193.12,222.403 2193.57,214.169 2194.02,216.667 \n",
       "  2194.47,218.148 2194.92,224.233 2195.37,220.994 2195.82,195.975 2196.27,182.084 2196.72,198.135 2197.17,221.344 2197.62,255.247 2198.07,241.903 2198.52,212.34 \n",
       "  2198.97,224.377 2199.42,210.793 2199.87,198.659 2200.32,176.011 2200.77,174.945 2201.22,185.929 2201.67,197.84 2202.12,200.067 2202.57,205.599 2203.02,221.446 \n",
       "  2203.47,221.482 2203.92,235.704 2204.37,262.578 2204.82,279.045 2205.27,250.023 2205.72,283.89 2206.17,282.018 2206.62,270.558 2207.07,295.404 2207.52,300.297 \n",
       "  2207.97,256.168 2208.42,263.113 2208.87,280.351 2209.32,267.573 2209.77,264.275 2210.22,258.292 2210.67,244.407 2211.12,248.5 2211.57,234.874 2212.02,224.419 \n",
       "  2212.47,229.806 2212.92,234.982 2213.37,245.31 2213.82,242.06 2214.27,269.674 2214.72,259.604 2215.17,245.268 2215.62,241.031 2216.07,264.835 2216.52,258.045 \n",
       "  2216.97,273.79 2217.42,277.781 2217.87,242.337 2218.32,248.404 2218.77,243.673 2219.22,227.483 2219.67,216.842 2220.12,207.35 2220.57,219.315 2221.02,222.908 \n",
       "  2221.47,218.641 2221.92,220.061 2222.37,209.204 2222.82,207.428 2223.27,222.09 2223.72,211.882 2224.17,216.3 2224.62,227.428 2225.07,229.041 2225.52,217.877 \n",
       "  2225.97,219.249 2226.42,205.424 2226.87,201.337 2227.32,198.454 2227.77,185.46 2228.22,190.877 2228.67,182.246 2229.12,178.984 2229.57,177.576 2230.02,180.422 \n",
       "  2230.47,183.691 2230.92,190.907 2231.37,199.201 2231.82,188.536 2232.27,188.806 2232.72,193.916 2233.17,204.66 2233.62,217.191 2234.07,213.381 2234.52,231.292 \n",
       "  2234.97,214.175 2235.42,227.525 2235.87,210.48 2236.32,215.945 2236.76,207.826 2237.21,184.991 2237.66,177.202 2238.11,182.463 2238.56,180.465 2239.01,172.165 \n",
       "  2239.46,171.906 2239.91,176.733 2240.36,163.486 2240.81,164.677 2241.26,167.578 2241.71,170.817 2242.16,157.87 2242.61,159.646 2243.06,148.957 2243.51,144.828 \n",
       "  2243.96,158.881 2244.41,164.461 2244.86,157.575 2245.31,170.028 2245.76,152.49 2246.21,146.068 2246.66,136.661 2247.11,136.137 2247.56,135.896 2248.01,146.904 \n",
       "  2248.46,148.975 2248.91,153.537 2249.36,153.495 2249.81,151.394 2250.26,147.253 2250.71,137.858 2251.16,133.296 2251.61,133.609 2252.06,134.03 2252.51,132.79 \n",
       "  2252.96,119.345 2253.41,109.257 2253.86,109.757 2254.31,104.749 2254.76,111.111 2255.21,111.96 2255.66,115.192 2256.11,116.967 2256.56,129.233 2257.01,121.331 \n",
       "  2257.46,127.241 2257.91,117.178 2258.36,112.026 2258.81,106.29 2259.26,107.825 2259.71,115.703 2260.16,106.158 2260.61,98.2552 2261.06,88.0053 2261.51,96.9912 \n",
       "  2261.96,97.0394 2262.41,99.9103 2262.86,103.118 2263.31,104.093 2263.76,94.3069 2264.21,95.8055 2264.66,91.0569 2265.11,98.4838 2265.56,108.601 2266.01,123.654 \n",
       "  2266.46,120.657 2266.91,125.839 2267.36,184.238 2267.81,188.048 2268.26,192.087 2268.71,190.149 2269.16,163.293 2269.61,169.113 2270.06,184.967 2270.51,186.002 \n",
       "  2270.96,217.847 2271.41,207.711 2271.86,245.623 2272.31,249.848 2272.76,240.946 2273.21,266.207 2273.66,227.133 2274.11,219.923 2274.56,203.149 2275.01,214.633 \n",
       "  2275.46,207.392 2275.91,185.887 2276.36,166.477 2276.81,173.868 2277.26,186.008 2277.71,212.418 2278.16,207.693 2278.61,234.404 2279.06,219.345 2279.51,212.002 \n",
       "  2279.96,257.829 2280.41,255.939 2280.86,270.612 2281.31,260.615 2281.76,252.322 2282.21,235.65 2282.66,208.253 2283.11,207.777 2283.56,176.035 2284.01,180.892 \n",
       "  2284.46,252.466 2284.91,235.764 2285.36,272.117 2285.81,251.906 2286.26,255.644 2286.71,255.361 2287.16,272.827 2287.61,296.258 2288.06,314.826 2288.51,322.56 \n",
       "  2288.96,352.822 2289.41,371.715 2289.86,410.728 2290.31,433.262 2290.76,385.485 2291.21,351.618 2291.66,351.516 \n",
       "  \"/>\n",
       "<polygon clip-path=\"url(#clip2900)\" points=\"\n",
       "1989.93,251.724 2280.76,251.724 2280.76,130.764 1989.93,130.764 \n",
       "  \" fill=\"#ffffff\" fill-rule=\"evenodd\" fill-opacity=\"1\"/>\n",
       "<polyline clip-path=\"url(#clip2900)\" style=\"stroke:#000000; stroke-width:4; stroke-opacity:1; fill:none\" points=\"\n",
       "  1989.93,251.724 2280.76,251.724 2280.76,130.764 1989.93,130.764 1989.93,251.724 \n",
       "  \"/>\n",
       "<polyline clip-path=\"url(#clip2900)\" style=\"stroke:#009af9; stroke-width:4; stroke-opacity:1; fill:none\" points=\"\n",
       "  2013.93,191.244 2157.93,191.244 \n",
       "  \"/>\n",
       "<g clip-path=\"url(#clip2900)\">\n",
       "<text style=\"fill:#000000; fill-opacity:1; font-family:Arial,Helvetica Neue,Helvetica,sans-serif; font-size:48px; text-anchor:start;\" transform=\"rotate(0, 2181.93, 208.744)\" x=\"2181.93\" y=\"208.744\">y1</text>\n",
       "</g>\n",
       "</svg>\n"
      ]
     },
     "execution_count": 81,
     "metadata": {},
     "output_type": "execute_result"
    }
   ],
   "source": [
    "p_daily = SP500_daily[:, 2];\n",
    "plot(p_daily)"
   ]
  },
  {
   "cell_type": "code",
   "execution_count": 82,
   "metadata": {},
   "outputs": [
    {
     "name": "stdout",
     "output_type": "stream",
     "text": [
      "test_statistics = [103.75029759356744]\n",
      "pvalue = [1.2385004133363964e-10]\n"
     ]
    },
    {
     "data": {
      "text/plain": [
       "1-element Array{Float64,1}:\n",
       " 1.2385004133363964e-10"
      ]
     },
     "execution_count": 82,
     "metadata": {},
     "output_type": "execute_result"
    }
   ],
   "source": [
    "(test_statistics, pvalue) = rw_test(p_daily, \"BP\", 28)\n",
    "@show test_statistics\n",
    "@show pvalue"
   ]
  },
  {
   "cell_type": "code",
   "execution_count": 83,
   "metadata": {},
   "outputs": [
    {
     "name": "stdout",
     "output_type": "stream",
     "text": [
      "test_statistics = [104.44227378916705]\n",
      "pvalue = [9.533751565982129e-11]\n"
     ]
    },
    {
     "data": {
      "text/plain": [
       "1-element Array{Float64,1}:\n",
       " 9.533751565982129e-11"
      ]
     },
     "execution_count": 83,
     "metadata": {},
     "output_type": "execute_result"
    }
   ],
   "source": [
    "(test_statistics, pvalue) = rw_test(p_daily, \"LB\", 28)\n",
    "@show test_statistics\n",
    "@show pvalue"
   ]
  },
  {
   "cell_type": "code",
   "execution_count": 84,
   "metadata": {},
   "outputs": [
    {
     "name": "stdout",
     "output_type": "stream",
     "text": [
      "test_statistics = [-9.898198154914231]\n",
      "pvalue = [1.0]\n"
     ]
    },
    {
     "data": {
      "text/plain": [
       "1-element Array{Float64,1}:\n",
       " 1.0"
      ]
     },
     "execution_count": 84,
     "metadata": {},
     "output_type": "execute_result"
    }
   ],
   "source": [
    "(test_statistics, pvalue) = rw_test(p_daily, \"VR\", 20)\n",
    "@show test_statistics\n",
    "@show pvalue"
   ]
  },
  {
   "cell_type": "code",
   "execution_count": 85,
   "metadata": {},
   "outputs": [
    {
     "data": {
      "text/plain": [
       "217×7 Array{Any,2}:\n",
       " \"2001-01-01\"  1320.28  1383.37  1274.62  1366.01  1366.01  27829800000\n",
       " \"2001-02-01\"  1366.01  1376.38  1215.44  1239.94  1239.94  21644400000\n",
       " \"2001-03-01\"  1239.94  1267.42  1081.19  1160.33  1160.33  27806610000\n",
       " \"2001-04-01\"  1160.33  1269.3   1091.99  1249.46  1249.46  25409990000\n",
       " \"2001-05-01\"  1249.46  1315.93  1232.0   1255.82  1255.82  24525900000\n",
       " \"2001-06-01\"  1255.82  1286.62  1203.03  1224.38  1224.38  24748030000\n",
       " \"2001-07-01\"  1224.42  1239.78  1165.54  1211.23  1211.23  23793710000\n",
       " \"2001-08-01\"  1211.23  1226.27  1124.87  1133.58  1133.58  23359200000\n",
       " \"2001-09-01\"  1133.58  1155.4    944.75  1040.94  1040.94  25025290000\n",
       " \"2001-10-01\"  1040.94  1110.61  1026.76  1059.78  1059.78  29951280000\n",
       " \"2001-11-01\"  1059.78  1163.38  1054.31  1139.45  1139.45  26330000000\n",
       " \"2001-12-01\"  1139.45  1173.62  1114.53  1148.08  1148.08  25128570000\n",
       " \"2002-01-01\"  1148.08  1176.97  1081.66  1130.2   1130.2   29746200000\n",
       " ⋮                                                    ⋮                \n",
       " \"2018-02-01\"  2816.45  2835.96  2532.69  2713.83  2713.83  79579410000\n",
       " \"2018-03-01\"  2715.22  2801.9   2585.89  2640.87  2640.87  76369800000\n",
       " \"2018-04-01\"  2633.45  2717.49  2553.8   2648.05  2648.05  69648590000\n",
       " \"2018-05-01\"  2642.96  2742.24  2594.62  2705.27  2705.27  75617280000\n",
       " \"2018-06-01\"  2718.7   2791.47  2691.99  2718.37  2718.37  77439710000\n",
       " \"2018-07-01\"  2704.95  2848.03  2698.95  2816.29  2816.29  64542170000\n",
       " \"2018-08-01\"  2821.17  2916.5   2796.34  2901.52  2901.52  69238220000\n",
       " \"2018-09-01\"  2896.96  2940.91  2864.12  2913.98  2913.98  62492080000\n",
       " \"2018-10-01\"  2926.29  2939.86  2603.54  2711.74  2711.74  91327930000\n",
       " \"2018-11-01\"  2717.58  2815.15  2631.09  2760.17  2760.17  80080110000\n",
       " \"2018-12-01\"  2790.5   2800.18  2346.58  2506.85  2506.85  83522570000\n",
       " \"2019-01-01\"  2476.96  2708.95  2443.96  2704.1   2704.1   80401630000"
      ]
     },
     "execution_count": 85,
     "metadata": {},
     "output_type": "execute_result"
    }
   ],
   "source": [
    "SP500_monthly = readdlm(\"Data/GSPC_monthly.csv\", ',', skipstart = 1) "
   ]
  },
  {
   "cell_type": "code",
   "execution_count": 86,
   "metadata": {},
   "outputs": [
    {
     "data": {
      "image/svg+xml": [
       "<?xml version=\"1.0\" encoding=\"utf-8\"?>\n",
       "<svg xmlns=\"http://www.w3.org/2000/svg\" xmlns:xlink=\"http://www.w3.org/1999/xlink\" width=\"600\" height=\"400\" viewBox=\"0 0 2400 1600\">\n",
       "<defs>\n",
       "  <clipPath id=\"clip3300\">\n",
       "    <rect x=\"0\" y=\"0\" width=\"2400\" height=\"1600\"/>\n",
       "  </clipPath>\n",
       "</defs>\n",
       "<polygon clip-path=\"url(#clip3300)\" points=\"\n",
       "0,1600 2400,1600 2400,0 0,0 \n",
       "  \" fill=\"#ffffff\" fill-rule=\"evenodd\" fill-opacity=\"1\"/>\n",
       "<defs>\n",
       "  <clipPath id=\"clip3301\">\n",
       "    <rect x=\"480\" y=\"0\" width=\"1681\" height=\"1600\"/>\n",
       "  </clipPath>\n",
       "</defs>\n",
       "<polygon clip-path=\"url(#clip3300)\" points=\"\n",
       "194.041,1487.47 2352.76,1487.47 2352.76,47.2441 194.041,47.2441 \n",
       "  \" fill=\"#ffffff\" fill-rule=\"evenodd\" fill-opacity=\"1\"/>\n",
       "<defs>\n",
       "  <clipPath id=\"clip3302\">\n",
       "    <rect x=\"194\" y=\"47\" width=\"2160\" height=\"1441\"/>\n",
       "  </clipPath>\n",
       "</defs>\n",
       "<polyline clip-path=\"url(#clip3302)\" style=\"stroke:#000000; stroke-width:2; stroke-opacity:0.1; fill:none\" points=\"\n",
       "  245.709,1487.47 245.709,47.2441 \n",
       "  \"/>\n",
       "<polyline clip-path=\"url(#clip3302)\" style=\"stroke:#000000; stroke-width:2; stroke-opacity:0.1; fill:none\" points=\"\n",
       "  717.126,1487.47 717.126,47.2441 \n",
       "  \"/>\n",
       "<polyline clip-path=\"url(#clip3302)\" style=\"stroke:#000000; stroke-width:2; stroke-opacity:0.1; fill:none\" points=\"\n",
       "  1188.54,1487.47 1188.54,47.2441 \n",
       "  \"/>\n",
       "<polyline clip-path=\"url(#clip3302)\" style=\"stroke:#000000; stroke-width:2; stroke-opacity:0.1; fill:none\" points=\"\n",
       "  1659.96,1487.47 1659.96,47.2441 \n",
       "  \"/>\n",
       "<polyline clip-path=\"url(#clip3302)\" style=\"stroke:#000000; stroke-width:2; stroke-opacity:0.1; fill:none\" points=\"\n",
       "  2131.38,1487.47 2131.38,47.2441 \n",
       "  \"/>\n",
       "<polyline clip-path=\"url(#clip3302)\" style=\"stroke:#000000; stroke-width:2; stroke-opacity:0.1; fill:none\" points=\"\n",
       "  194.041,1279.45 2352.76,1279.45 \n",
       "  \"/>\n",
       "<polyline clip-path=\"url(#clip3302)\" style=\"stroke:#000000; stroke-width:2; stroke-opacity:0.1; fill:none\" points=\"\n",
       "  194.041,970.19 2352.76,970.19 \n",
       "  \"/>\n",
       "<polyline clip-path=\"url(#clip3302)\" style=\"stroke:#000000; stroke-width:2; stroke-opacity:0.1; fill:none\" points=\"\n",
       "  194.041,660.931 2352.76,660.931 \n",
       "  \"/>\n",
       "<polyline clip-path=\"url(#clip3302)\" style=\"stroke:#000000; stroke-width:2; stroke-opacity:0.1; fill:none\" points=\"\n",
       "  194.041,351.673 2352.76,351.673 \n",
       "  \"/>\n",
       "<polyline clip-path=\"url(#clip3300)\" style=\"stroke:#000000; stroke-width:4; stroke-opacity:1; fill:none\" points=\"\n",
       "  194.041,1487.47 2352.76,1487.47 \n",
       "  \"/>\n",
       "<polyline clip-path=\"url(#clip3300)\" style=\"stroke:#000000; stroke-width:4; stroke-opacity:1; fill:none\" points=\"\n",
       "  194.041,1487.47 194.041,47.2441 \n",
       "  \"/>\n",
       "<polyline clip-path=\"url(#clip3300)\" style=\"stroke:#000000; stroke-width:4; stroke-opacity:1; fill:none\" points=\"\n",
       "  245.709,1487.47 245.709,1465.87 \n",
       "  \"/>\n",
       "<polyline clip-path=\"url(#clip3300)\" style=\"stroke:#000000; stroke-width:4; stroke-opacity:1; fill:none\" points=\"\n",
       "  717.126,1487.47 717.126,1465.87 \n",
       "  \"/>\n",
       "<polyline clip-path=\"url(#clip3300)\" style=\"stroke:#000000; stroke-width:4; stroke-opacity:1; fill:none\" points=\"\n",
       "  1188.54,1487.47 1188.54,1465.87 \n",
       "  \"/>\n",
       "<polyline clip-path=\"url(#clip3300)\" style=\"stroke:#000000; stroke-width:4; stroke-opacity:1; fill:none\" points=\"\n",
       "  1659.96,1487.47 1659.96,1465.87 \n",
       "  \"/>\n",
       "<polyline clip-path=\"url(#clip3300)\" style=\"stroke:#000000; stroke-width:4; stroke-opacity:1; fill:none\" points=\"\n",
       "  2131.38,1487.47 2131.38,1465.87 \n",
       "  \"/>\n",
       "<polyline clip-path=\"url(#clip3300)\" style=\"stroke:#000000; stroke-width:4; stroke-opacity:1; fill:none\" points=\"\n",
       "  194.041,1279.45 226.422,1279.45 \n",
       "  \"/>\n",
       "<polyline clip-path=\"url(#clip3300)\" style=\"stroke:#000000; stroke-width:4; stroke-opacity:1; fill:none\" points=\"\n",
       "  194.041,970.19 226.422,970.19 \n",
       "  \"/>\n",
       "<polyline clip-path=\"url(#clip3300)\" style=\"stroke:#000000; stroke-width:4; stroke-opacity:1; fill:none\" points=\"\n",
       "  194.041,660.931 226.422,660.931 \n",
       "  \"/>\n",
       "<polyline clip-path=\"url(#clip3300)\" style=\"stroke:#000000; stroke-width:4; stroke-opacity:1; fill:none\" points=\"\n",
       "  194.041,351.673 226.422,351.673 \n",
       "  \"/>\n",
       "<g clip-path=\"url(#clip3300)\">\n",
       "<text style=\"fill:#000000; fill-opacity:1; font-family:Arial,Helvetica Neue,Helvetica,sans-serif; font-size:48px; text-anchor:middle;\" transform=\"rotate(0, 245.709, 1541.47)\" x=\"245.709\" y=\"1541.47\">0</text>\n",
       "</g>\n",
       "<g clip-path=\"url(#clip3300)\">\n",
       "<text style=\"fill:#000000; fill-opacity:1; font-family:Arial,Helvetica Neue,Helvetica,sans-serif; font-size:48px; text-anchor:middle;\" transform=\"rotate(0, 717.126, 1541.47)\" x=\"717.126\" y=\"1541.47\">50</text>\n",
       "</g>\n",
       "<g clip-path=\"url(#clip3300)\">\n",
       "<text style=\"fill:#000000; fill-opacity:1; font-family:Arial,Helvetica Neue,Helvetica,sans-serif; font-size:48px; text-anchor:middle;\" transform=\"rotate(0, 1188.54, 1541.47)\" x=\"1188.54\" y=\"1541.47\">100</text>\n",
       "</g>\n",
       "<g clip-path=\"url(#clip3300)\">\n",
       "<text style=\"fill:#000000; fill-opacity:1; font-family:Arial,Helvetica Neue,Helvetica,sans-serif; font-size:48px; text-anchor:middle;\" transform=\"rotate(0, 1659.96, 1541.47)\" x=\"1659.96\" y=\"1541.47\">150</text>\n",
       "</g>\n",
       "<g clip-path=\"url(#clip3300)\">\n",
       "<text style=\"fill:#000000; fill-opacity:1; font-family:Arial,Helvetica Neue,Helvetica,sans-serif; font-size:48px; text-anchor:middle;\" transform=\"rotate(0, 2131.38, 1541.47)\" x=\"2131.38\" y=\"1541.47\">200</text>\n",
       "</g>\n",
       "<g clip-path=\"url(#clip3300)\">\n",
       "<text style=\"fill:#000000; fill-opacity:1; font-family:Arial,Helvetica Neue,Helvetica,sans-serif; font-size:48px; text-anchor:end;\" transform=\"rotate(0, 170.041, 1296.95)\" x=\"170.041\" y=\"1296.95\">1000</text>\n",
       "</g>\n",
       "<g clip-path=\"url(#clip3300)\">\n",
       "<text style=\"fill:#000000; fill-opacity:1; font-family:Arial,Helvetica Neue,Helvetica,sans-serif; font-size:48px; text-anchor:end;\" transform=\"rotate(0, 170.041, 987.69)\" x=\"170.041\" y=\"987.69\">1500</text>\n",
       "</g>\n",
       "<g clip-path=\"url(#clip3300)\">\n",
       "<text style=\"fill:#000000; fill-opacity:1; font-family:Arial,Helvetica Neue,Helvetica,sans-serif; font-size:48px; text-anchor:end;\" transform=\"rotate(0, 170.041, 678.431)\" x=\"170.041\" y=\"678.431\">2000</text>\n",
       "</g>\n",
       "<g clip-path=\"url(#clip3300)\">\n",
       "<text style=\"fill:#000000; fill-opacity:1; font-family:Arial,Helvetica Neue,Helvetica,sans-serif; font-size:48px; text-anchor:end;\" transform=\"rotate(0, 170.041, 369.173)\" x=\"170.041\" y=\"369.173\">2500</text>\n",
       "</g>\n",
       "<polyline clip-path=\"url(#clip3302)\" style=\"stroke:#009af9; stroke-width:4; stroke-opacity:1; fill:none\" points=\"\n",
       "  255.137,1081.35 264.566,1053.06 273.994,1131.04 283.422,1180.28 292.851,1125.15 302.279,1121.22 311.707,1140.64 321.136,1148.8 330.564,1196.83 339.992,1254.13 \n",
       "  349.421,1242.47 358.849,1193.2 368.277,1187.86 377.706,1198.92 387.134,1213.43 396.562,1188.28 405.991,1231.87 415.419,1237.92 424.847,1285.74 434.276,1334.11 \n",
       "  443.704,1331.36 453.132,1393.7 462.561,1350.11 471.989,1318.84 481.418,1353.78 490.846,1368.7 500.274,1377.7 509.703,1373.35 519.131,1330.83 528.559,1301.97 \n",
       "  537.988,1295.22 547.416,1285.44 556.844,1274.49 566.273,1281.94 575.701,1248.08 585.129,1243.45 594.558,1210.22 603.986,1198.34 613.414,1189.8 622.843,1201.39 \n",
       "  632.271,1213.08 641.699,1204.81 651.128,1192.34 660.556,1216.53 669.984,1214.97 679.413,1208.58 688.841,1198.92 698.27,1171.96 707.698,1148.37 717.126,1167.33 \n",
       "  726.555,1153.52 735.983,1167.75 745.411,1182.43 754.84,1161 764.268,1161.11 773.696,1134.6 783.125,1143.17 792.553,1137.93 801.981,1151.41 811.41,1125.14 \n",
       "  820.838,1125.88 830.266,1106.21 839.695,1105.86 849.123,1092.11 858.551,1087.33 867.98,1112.42 877.408,1112.41 886.836,1107.17 896.265,1091.54 905.693,1071.74 \n",
       "  915.121,1045.8 924.55,1031.65 933.978,1020.89 943.407,1008.6 952.835,1027.84 962.263,1019.16 971.692,981.094 981.12,951.251 990.548,967.307 999.977,997.912 \n",
       "  1009.4,986.296 1018.83,953.31 1028.26,941.868 1037.69,982.789 1047.12,990.001 1056.55,1045.28 1065.98,1075.06 1075.4,1077.56 1084.83,1040.72 1094.26,1032.28 \n",
       "  1103.69,1108.31 1113.12,1112.81 1122.55,1101.42 1131.97,1177.91 1141.4,1298.83 1150.83,1348.34 1160.26,1339.45 1169.69,1388.87 1179.12,1446.71 1188.54,1407.12 \n",
       "  1197.97,1358.16 1207.4,1326.91 1216.83,1328.42 1226.26,1285.5 1235.69,1267.37 1245.11,1245.49 1254.54,1257.07 1263.97,1218.28 1273.4,1207.35 1282.83,1233.75 \n",
       "  1292.26,1214.28 1301.68,1173.54 1311.11,1162.81 1320.54,1225.45 1329.97,1260.21 1339.4,1212.94 1348.83,1248.7 1358.25,1190.7 1367.68,1164.58 1377.11,1164.03 \n",
       "  1386.54,1120.11 1395.97,1100.61 1405.4,1076.18 1414.82,1075.66 1424.25,1053.56 1433.68,1065.94 1443.11,1081.13 1452.54,1098.48 1461.97,1143.92 1471.39,1198.29 \n",
       "  1480.82,1124.2 1490.25,1126.73 1499.68,1119.34 1509.11,1086.19 1518.54,1053.13 1527.96,1026.8 1537.39,1033.36 1546.82,1087.79 1556.25,1055.34 1565.68,1044.83 \n",
       "  1575.11,1028 1584.53,1006.74 1593.96,1024.5 1603.39,1021.93 1612.82,1015.84 1622.25,971.359 1631.68,961.11 1641.1,927.401 1650.53,909.853 1659.96,888.725 \n",
       "  1669.39,902.289 1678.82,853.03 1688.25,886.102 1697.67,857.366 1707.1,810.179 1716.53,780.583 1725.96,756.269 1735.39,795.347 1744.82,748.959 1754.24,738.889 \n",
       "  1763.67,732.438 1773.1,708.019 1782.53,684.255 1791.96,704.351 1801.39,658.414 1810.81,678.596 1820.24,649.668 1829.67,620.245 1839.1,624.501 1848.53,662.991 \n",
       "  1857.96,595.845 1867.38,619.101 1876.81,606.885 1886.24,593.736 1895.67,619.491 1905.1,596.302 1914.53,679.431 1923.95,710.629 1933.38,610.98 1942.81,609.638 \n",
       "  1952.24,637.304 1961.67,699.935 1971.1,699.842 1980.52,625.911 1989.95,619.386 1999.38,602.828 2008.81,599.488 2018.24,553.835 2027.67,554.961 2037.09,559.29 \n",
       "  2046.52,581.341 2055.95,537.123 2065.38,505.331 2074.81,484.289 2084.24,425.815 2093.66,436.818 2103.09,420.637 2112.52,403.845 2121.95,394.109 2131.38,365.837 \n",
       "  2140.81,367.495 2150.24,338.56 2159.66,300.206 2169.09,261.926 2178.52,238.033 2187.95,155.943 2197.38,218.556 2206.81,269.132 2216.23,263.25 2225.66,216.403 \n",
       "  2235.09,224.908 2244.52,153.024 2253.95,106.146 2263.38,88.0053 2272.8,217.096 2282.23,171.994 2291.66,365.924 \n",
       "  \"/>\n",
       "<polygon clip-path=\"url(#clip3300)\" points=\"\n",
       "1989.93,251.724 2280.76,251.724 2280.76,130.764 1989.93,130.764 \n",
       "  \" fill=\"#ffffff\" fill-rule=\"evenodd\" fill-opacity=\"1\"/>\n",
       "<polyline clip-path=\"url(#clip3300)\" style=\"stroke:#000000; stroke-width:4; stroke-opacity:1; fill:none\" points=\"\n",
       "  1989.93,251.724 2280.76,251.724 2280.76,130.764 1989.93,130.764 1989.93,251.724 \n",
       "  \"/>\n",
       "<polyline clip-path=\"url(#clip3300)\" style=\"stroke:#009af9; stroke-width:4; stroke-opacity:1; fill:none\" points=\"\n",
       "  2013.93,191.244 2157.93,191.244 \n",
       "  \"/>\n",
       "<g clip-path=\"url(#clip3300)\">\n",
       "<text style=\"fill:#000000; fill-opacity:1; font-family:Arial,Helvetica Neue,Helvetica,sans-serif; font-size:48px; text-anchor:start;\" transform=\"rotate(0, 2181.93, 208.744)\" x=\"2181.93\" y=\"208.744\">y1</text>\n",
       "</g>\n",
       "</svg>\n"
      ]
     },
     "execution_count": 86,
     "metadata": {},
     "output_type": "execute_result"
    }
   ],
   "source": [
    "p_monthly = SP500_monthly[:, 2];\n",
    "plot(p_monthly)"
   ]
  },
  {
   "cell_type": "code",
   "execution_count": 87,
   "metadata": {},
   "outputs": [
    {
     "name": "stdout",
     "output_type": "stream",
     "text": [
      "test_statistics = [15.059135648362021]\n",
      "pvalue = [0.23821840835484098]\n"
     ]
    },
    {
     "data": {
      "text/plain": [
       "1-element Array{Float64,1}:\n",
       " 0.23821840835484098"
      ]
     },
     "execution_count": 87,
     "metadata": {},
     "output_type": "execute_result"
    }
   ],
   "source": [
    "(test_statistics, pvalue) = rw_test(p_monthly, \"BP\", 12)\n",
    "@show test_statistics\n",
    "@show pvalue"
   ]
  },
  {
   "cell_type": "code",
   "execution_count": 88,
   "metadata": {},
   "outputs": [
    {
     "name": "stdout",
     "output_type": "stream",
     "text": [
      "test_statistics = [16.092605741877062]\n",
      "pvalue = [0.1870312777990084]\n"
     ]
    },
    {
     "data": {
      "text/plain": [
       "1-element Array{Float64,1}:\n",
       " 0.1870312777990084"
      ]
     },
     "execution_count": 88,
     "metadata": {},
     "output_type": "execute_result"
    }
   ],
   "source": [
    "(test_statistics, pvalue) = rw_test(p_monthly, \"LB\", 12)\n",
    "@show test_statistics\n",
    "@show pvalue"
   ]
  },
  {
   "cell_type": "code",
   "execution_count": 89,
   "metadata": {},
   "outputs": [
    {
     "name": "stdout",
     "output_type": "stream",
     "text": [
      "test_statistics = [4.7016907891246325]\n",
      "pvalue = [1.2900801078519208e-6]\n"
     ]
    },
    {
     "data": {
      "text/plain": [
       "1-element Array{Float64,1}:\n",
       " 1.2900801078519208e-6"
      ]
     },
     "execution_count": 89,
     "metadata": {},
     "output_type": "execute_result"
    }
   ],
   "source": [
    "(test_statistics, pvalue) = rw_test(p_monthly, \"VR\", 12)\n",
    "@show test_statistics\n",
    "@show pvalue"
   ]
  }
 ],
 "metadata": {
  "kernelspec": {
   "display_name": "Julia 1.2.0",
   "language": "julia",
   "name": "julia-1.2"
  },
  "language_info": {
   "file_extension": ".jl",
   "mimetype": "application/julia",
   "name": "julia",
   "version": "1.2.0"
  }
 },
 "nbformat": 4,
 "nbformat_minor": 4
}
